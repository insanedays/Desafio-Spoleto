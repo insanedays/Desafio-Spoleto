{
  "nbformat": 4,
  "nbformat_minor": 0,
  "metadata": {
    "colab": {
      "name": "Desafio Spoleto",
      "provenance": [],
      "collapsed_sections": [
        "Li4JrY5ssvN-"
      ]
    },
    "kernelspec": {
      "name": "python3",
      "display_name": "Python 3"
    }
  },
  "cells": [
    {
      "cell_type": "markdown",
      "metadata": {
        "id": "Li4JrY5ssvN-"
      },
      "source": [
        "### Criando Drive"
      ]
    },
    {
      "cell_type": "code",
      "metadata": {
        "id": "aD2CE8JTsyWw"
      },
      "source": [
        "#from google.colab import drive\r\n",
        "\r\n",
        "#drive.mount('/content/drive')"
      ],
      "execution_count": null,
      "outputs": []
    },
    {
      "cell_type": "markdown",
      "metadata": {
        "id": "sGMul2a8ro0U"
      },
      "source": [
        "### Importando CSV"
      ]
    },
    {
      "cell_type": "code",
      "metadata": {
        "colab": {
          "base_uri": "https://localhost:8080/"
        },
        "id": "wL8eo0YasCUE",
        "outputId": "2af3bd1f-572f-475f-c49d-d636625b7c46"
      },
      "source": [
        "import pandas as pd \r\n",
        "import numpy as np\r\n",
        "import datetime as datetime\r\n",
        "\r\n",
        "\r\n",
        "dado = pd.read_csv(\"Base de atividades tratadas.csv\", sep=\";\")\r\n",
        "\r\n",
        "dado.shape"
      ],
      "execution_count": null,
      "outputs": [
        {
          "output_type": "execute_result",
          "data": {
            "text/plain": [
              "(178941, 10)"
            ]
          },
          "metadata": {
            "tags": []
          },
          "execution_count": 47
        }
      ]
    },
    {
      "cell_type": "code",
      "metadata": {
        "id": "8iGug1Dcg7kQ"
      },
      "source": [
        "# prepocessing\r\n",
        "\r\n",
        "# arrumar as colunas e os tipos de dados antes de fazer a analise"
      ],
      "execution_count": null,
      "outputs": []
    },
    {
      "cell_type": "code",
      "metadata": {
        "colab": {
          "base_uri": "https://localhost:8080/"
        },
        "id": "Tz-8nmNYhGdo",
        "outputId": "7f62dc45-b1d4-4dcf-8908-5c670843c7a9"
      },
      "source": [
        "dado.dtypes"
      ],
      "execution_count": null,
      "outputs": [
        {
          "output_type": "execute_result",
          "data": {
            "text/plain": [
              "id                     int64\n",
              "brand_id               int64\n",
              "store_id               int64\n",
              "user_id                int64\n",
              "data                  object\n",
              "first_interaction       bool\n",
              "interacted_at         object\n",
              "object_id              int64\n",
              "object_type           object\n",
              "value                float64\n",
              "dtype: object"
            ]
          },
          "metadata": {
            "tags": []
          },
          "execution_count": 49
        }
      ]
    },
    {
      "cell_type": "code",
      "metadata": {
        "id": "8CTvcHD4hq1z"
      },
      "source": [
        "dado['interacted_at'] = pd.to_datetime(dado['interacted_at'])"
      ],
      "execution_count": null,
      "outputs": []
    },
    {
      "cell_type": "code",
      "metadata": {
        "id": "wwCXG09-h-8U"
      },
      "source": [
        "dado[['id','brand_id','store_id','user_id']] = dado[['id','brand_id','store_id','user_id']].astype(str)"
      ],
      "execution_count": null,
      "outputs": []
    },
    {
      "cell_type": "code",
      "metadata": {
        "id": "w_gMnIaLwCfX"
      },
      "source": [
        "#reg = dado[\"interacted_at\"]\r\n",
        "#coluna_data = reg.str.extract('(\\d{4})', expand=False)\r\n",
        "\r\n",
        "#coluna_data"
      ],
      "execution_count": null,
      "outputs": []
    },
    {
      "cell_type": "code",
      "metadata": {
        "colab": {
          "base_uri": "https://localhost:8080/",
          "height": 293
        },
        "id": "6ShV9jP6ioGN",
        "outputId": "253bce88-5ca7-45a0-ee9a-952da40dc5f2"
      },
      "source": [
        "dado.head()"
      ],
      "execution_count": null,
      "outputs": [
        {
          "output_type": "execute_result",
          "data": {
            "text/html": [
              "<div>\n",
              "<style scoped>\n",
              "    .dataframe tbody tr th:only-of-type {\n",
              "        vertical-align: middle;\n",
              "    }\n",
              "\n",
              "    .dataframe tbody tr th {\n",
              "        vertical-align: top;\n",
              "    }\n",
              "\n",
              "    .dataframe thead th {\n",
              "        text-align: right;\n",
              "    }\n",
              "</style>\n",
              "<table border=\"1\" class=\"dataframe\">\n",
              "  <thead>\n",
              "    <tr style=\"text-align: right;\">\n",
              "      <th></th>\n",
              "      <th>id</th>\n",
              "      <th>brand_id</th>\n",
              "      <th>store_id</th>\n",
              "      <th>user_id</th>\n",
              "      <th>data</th>\n",
              "      <th>first_interaction</th>\n",
              "      <th>interacted_at</th>\n",
              "      <th>object_id</th>\n",
              "      <th>object_type</th>\n",
              "      <th>value</th>\n",
              "    </tr>\n",
              "  </thead>\n",
              "  <tbody>\n",
              "    <tr>\n",
              "      <th>0</th>\n",
              "      <td>499328473</td>\n",
              "      <td>2</td>\n",
              "      <td>356</td>\n",
              "      <td>5410696</td>\n",
              "      <td>{\"reward_name\":\"Massa Tradizionale\",\"brand_nam...</td>\n",
              "      <td>False</td>\n",
              "      <td>2019-06-22 00:03:00</td>\n",
              "      <td>26</td>\n",
              "      <td>Reward</td>\n",
              "      <td>6.0</td>\n",
              "    </tr>\n",
              "    <tr>\n",
              "      <th>1</th>\n",
              "      <td>499331703</td>\n",
              "      <td>2</td>\n",
              "      <td>356</td>\n",
              "      <td>4422611</td>\n",
              "      <td>{\"comment\":\"\",\"rating\":5,\"tags\":[\"Atendimento\"...</td>\n",
              "      <td>False</td>\n",
              "      <td>2019-06-22 00:11:00</td>\n",
              "      <td>4327945</td>\n",
              "      <td>Review</td>\n",
              "      <td>0.0</td>\n",
              "    </tr>\n",
              "    <tr>\n",
              "      <th>2</th>\n",
              "      <td>499332964</td>\n",
              "      <td>2</td>\n",
              "      <td>356</td>\n",
              "      <td>1934832</td>\n",
              "      <td>{\"comment\":\"\",\"rating\":3,\"tags\":[\"Preço\",\"Prod...</td>\n",
              "      <td>False</td>\n",
              "      <td>2019-06-22 00:15:00</td>\n",
              "      <td>4327970</td>\n",
              "      <td>Review</td>\n",
              "      <td>0.0</td>\n",
              "    </tr>\n",
              "    <tr>\n",
              "      <th>3</th>\n",
              "      <td>499340669</td>\n",
              "      <td>2</td>\n",
              "      <td>356</td>\n",
              "      <td>2162088</td>\n",
              "      <td>{\"reward_name\":\"Massa Tradizionale\",\"brand_nam...</td>\n",
              "      <td>False</td>\n",
              "      <td>2019-06-22 00:35:00</td>\n",
              "      <td>26</td>\n",
              "      <td>Reward</td>\n",
              "      <td>6.0</td>\n",
              "    </tr>\n",
              "    <tr>\n",
              "      <th>4</th>\n",
              "      <td>499341957</td>\n",
              "      <td>2</td>\n",
              "      <td>356</td>\n",
              "      <td>2162088</td>\n",
              "      <td>{\"total_value\":\"R$ 41,20\",\"brand_name\":\"Spolet...</td>\n",
              "      <td>False</td>\n",
              "      <td>2019-06-22 00:29:00</td>\n",
              "      <td>55566544</td>\n",
              "      <td>Purchase</td>\n",
              "      <td>41.2</td>\n",
              "    </tr>\n",
              "  </tbody>\n",
              "</table>\n",
              "</div>"
            ],
            "text/plain": [
              "          id brand_id store_id  ... object_id object_type  value\n",
              "0  499328473        2      356  ...        26      Reward    6.0\n",
              "1  499331703        2      356  ...   4327945      Review    0.0\n",
              "2  499332964        2      356  ...   4327970      Review    0.0\n",
              "3  499340669        2      356  ...        26      Reward    6.0\n",
              "4  499341957        2      356  ...  55566544    Purchase   41.2\n",
              "\n",
              "[5 rows x 10 columns]"
            ]
          },
          "metadata": {
            "tags": []
          },
          "execution_count": 53
        }
      ]
    },
    {
      "cell_type": "markdown",
      "metadata": {
        "id": "K3KU62X3E3ID"
      },
      "source": [
        "### Analise dos Dados"
      ]
    },
    {
      "cell_type": "code",
      "metadata": {
        "colab": {
          "base_uri": "https://localhost:8080/"
        },
        "id": "rMmxpqLAjEEj",
        "outputId": "eb8ba42a-2de2-4a67-9fe5-084f4743405d"
      },
      "source": [
        "dado[dado['first_interaction']== True]['user_id'].unique()"
      ],
      "execution_count": null,
      "outputs": [
        {
          "output_type": "execute_result",
          "data": {
            "text/plain": [
              "array(['9056365', '3933796', '6923028', ..., '9104814', '11934655',\n",
              "       '11934809'], dtype=object)"
            ]
          },
          "metadata": {
            "tags": []
          },
          "execution_count": 54
        }
      ]
    },
    {
      "cell_type": "code",
      "metadata": {
        "id": "dxPtK-0ovlIW"
      },
      "source": [
        ""
      ],
      "execution_count": null,
      "outputs": []
    },
    {
      "cell_type": "code",
      "metadata": {
        "id": "SljNKJ713h22"
      },
      "source": [
        "# quantidade de lojas\r\n",
        "\r\n",
        "# dado[(dado[\"store_id\"]& (dado[\"object_type\"] == \"Review\")].value_counts()\r\n",
        "\r\n",
        "\r\n",
        "lj_com_review = dado[dado['object_type']=='Review']\r\n",
        "\r\n",
        "vendas_lojas = dado[dado['object_type']=='Purchase']\r\n",
        "\r\n"
      ],
      "execution_count": null,
      "outputs": []
    },
    {
      "cell_type": "markdown",
      "metadata": {
        "id": "Z8EFGw4165O5"
      },
      "source": [
        "verificando quantidade de lojas com reviews e compras \r\n",
        "\r\n",
        "\r\n",
        "2375    \r\n",
        "356     \r\n",
        "376     \r\n",
        "377     \r\n",
        "383     \r\n",
        "3920    \r\n",
        "4319    \r\n",
        "4828    \r\n",
        "5294    \r\n",
        "602      "
      ]
    },
    {
      "cell_type": "code",
      "metadata": {
        "colab": {
          "base_uri": "https://localhost:8080/"
        },
        "id": "lR-vN6eZFY_U",
        "outputId": "279b1a79-6746-4343-9528-8feeda646b76"
      },
      "source": [
        "lj_com_review[\"store_id\"].value_counts().sort_index()\r\n"
      ],
      "execution_count": null,
      "outputs": [
        {
          "output_type": "execute_result",
          "data": {
            "text/plain": [
              "2375     962\n",
              "356     1718\n",
              "376      807\n",
              "377     1064\n",
              "383     1466\n",
              "3920     942\n",
              "4319    2170\n",
              "4828    1873\n",
              "5294    1436\n",
              "602      548\n",
              "Name: store_id, dtype: int64"
            ]
          },
          "metadata": {
            "tags": []
          },
          "execution_count": 56
        }
      ]
    },
    {
      "cell_type": "code",
      "metadata": {
        "colab": {
          "base_uri": "https://localhost:8080/"
        },
        "id": "xe95DReMFkPn",
        "outputId": "0bad71da-f557-404a-d6a8-7867ecc9753e"
      },
      "source": [
        "vendas_lojas[\"store_id\"].value_counts().sort_index()"
      ],
      "execution_count": null,
      "outputs": [
        {
          "output_type": "execute_result",
          "data": {
            "text/plain": [
              "2375    12014\n",
              "356     21367\n",
              "376     13575\n",
              "377     13511\n",
              "383     14496\n",
              "3920     7341\n",
              "4319    24680\n",
              "4828    18448\n",
              "5294    12486\n",
              "602      7750\n",
              "Name: store_id, dtype: int64"
            ]
          },
          "metadata": {
            "tags": []
          },
          "execution_count": 57
        }
      ]
    },
    {
      "cell_type": "code",
      "metadata": {
        "colab": {
          "base_uri": "https://localhost:8080/"
        },
        "id": "w4wcDnJy65lq",
        "outputId": "d607c3da-bc86-4b54-d784-30e2610bbe48"
      },
      "source": [
        "lj_rv = lj_com_review[\"store_id\"].value_counts().sort_index().unique()\r\n",
        "\r\n",
        "lj_rv\r\n",
        "\r\n",
        "\r\n"
      ],
      "execution_count": null,
      "outputs": [
        {
          "output_type": "execute_result",
          "data": {
            "text/plain": [
              "array([ 962, 1718,  807, 1064, 1466,  942, 2170, 1873, 1436,  548])"
            ]
          },
          "metadata": {
            "tags": []
          },
          "execution_count": 58
        }
      ]
    },
    {
      "cell_type": "code",
      "metadata": {
        "colab": {
          "base_uri": "https://localhost:8080/"
        },
        "id": "7EM8wYcV7n0a",
        "outputId": "ed515fb9-47d7-4d58-e3c3-bfc22eb7647e"
      },
      "source": [
        "vd_lj = vendas_lojas[\"store_id\"].value_counts().sort_index().unique()\r\n",
        "\r\n",
        "vd_lj\r\n",
        "\r\n"
      ],
      "execution_count": null,
      "outputs": [
        {
          "output_type": "execute_result",
          "data": {
            "text/plain": [
              "array([12014, 21367, 13575, 13511, 14496,  7341, 24680, 18448, 12486,\n",
              "        7750])"
            ]
          },
          "metadata": {
            "tags": []
          },
          "execution_count": 59
        }
      ]
    },
    {
      "cell_type": "code",
      "metadata": {
        "colab": {
          "base_uri": "https://localhost:8080/"
        },
        "id": "caYxrSoT_ITf",
        "outputId": "dbabb95e-7bbc-4ace-c608-5b8a514bd873"
      },
      "source": [
        "loj = [2375,356, 376, 377, 383, 3920, 4319, 4828, 5294, 602]\r\n",
        "for vd, lj, loj in zip(vd_lj, lj_rv, loj):\r\n",
        "  s = vd / lj\r\n",
        "  print(\"a loja {} tem taxa de {}% de reviws \".format(loj, s))\r\n",
        "  "
      ],
      "execution_count": null,
      "outputs": [
        {
          "output_type": "stream",
          "text": [
            "a loja 2375 tem taxa de 12.488565488565488% de reviws \n",
            "a loja 356 tem taxa de 12.437136204889406% de reviws \n",
            "a loja 376 tem taxa de 16.821561338289964% de reviws \n",
            "a loja 377 tem taxa de 12.698308270676693% de reviws \n",
            "a loja 383 tem taxa de 9.8881309686221% de reviws \n",
            "a loja 3920 tem taxa de 7.792993630573249% de reviws \n",
            "a loja 4319 tem taxa de 11.373271889400922% de reviws \n",
            "a loja 4828 tem taxa de 9.84943940202883% de reviws \n",
            "a loja 5294 tem taxa de 8.694986072423399% de reviws \n",
            "a loja 602 tem taxa de 14.142335766423358% de reviws \n"
          ],
          "name": "stdout"
        }
      ]
    },
    {
      "cell_type": "code",
      "metadata": {
        "colab": {
          "base_uri": "https://localhost:8080/"
        },
        "id": "IVeNKpe-H3RG",
        "outputId": "fd57c7e5-cc1f-4113-8d44-347d2912b05f"
      },
      "source": [
        "\r\n",
        "mensagens = dado[(dado['store_id']== 4828) & (dado['object_type']=='Review')][\"data\"].unique()\r\n",
        "mensagens"
      ],
      "execution_count": null,
      "outputs": [
        {
          "output_type": "execute_result",
          "data": {
            "text/plain": [
              "array([], dtype=object)"
            ]
          },
          "metadata": {
            "tags": []
          },
          "execution_count": 61
        }
      ]
    },
    {
      "cell_type": "code",
      "metadata": {
        "colab": {
          "base_uri": "https://localhost:8080/",
          "height": 617
        },
        "id": "Blnk-6IDnIB_",
        "outputId": "b50a2641-8f5b-4165-9bd2-103046d67e97"
      },
      "source": [
        "dado[dado['first_interaction']== True]"
      ],
      "execution_count": null,
      "outputs": [
        {
          "output_type": "execute_result",
          "data": {
            "text/html": [
              "<div>\n",
              "<style scoped>\n",
              "    .dataframe tbody tr th:only-of-type {\n",
              "        vertical-align: middle;\n",
              "    }\n",
              "\n",
              "    .dataframe tbody tr th {\n",
              "        vertical-align: top;\n",
              "    }\n",
              "\n",
              "    .dataframe thead th {\n",
              "        text-align: right;\n",
              "    }\n",
              "</style>\n",
              "<table border=\"1\" class=\"dataframe\">\n",
              "  <thead>\n",
              "    <tr style=\"text-align: right;\">\n",
              "      <th></th>\n",
              "      <th>id</th>\n",
              "      <th>brand_id</th>\n",
              "      <th>store_id</th>\n",
              "      <th>user_id</th>\n",
              "      <th>data</th>\n",
              "      <th>first_interaction</th>\n",
              "      <th>interacted_at</th>\n",
              "      <th>object_id</th>\n",
              "      <th>object_type</th>\n",
              "      <th>value</th>\n",
              "    </tr>\n",
              "  </thead>\n",
              "  <tbody>\n",
              "    <tr>\n",
              "      <th>10</th>\n",
              "      <td>499431394</td>\n",
              "      <td>2</td>\n",
              "      <td>356</td>\n",
              "      <td>9056365</td>\n",
              "      <td>{\"total_value\":\"R$ 18,90\",\"brand_name\":\"Spolet...</td>\n",
              "      <td>True</td>\n",
              "      <td>2019-06-22 15:20:00</td>\n",
              "      <td>55613847</td>\n",
              "      <td>Purchase</td>\n",
              "      <td>18.9</td>\n",
              "    </tr>\n",
              "    <tr>\n",
              "      <th>15</th>\n",
              "      <td>499436962</td>\n",
              "      <td>2</td>\n",
              "      <td>356</td>\n",
              "      <td>3933796</td>\n",
              "      <td>{\"total_value\":\"R$ 55,70\",\"brand_name\":\"Spolet...</td>\n",
              "      <td>True</td>\n",
              "      <td>2019-06-22 15:35:00</td>\n",
              "      <td>55617711</td>\n",
              "      <td>Purchase</td>\n",
              "      <td>55.7</td>\n",
              "    </tr>\n",
              "    <tr>\n",
              "      <th>17</th>\n",
              "      <td>499439089</td>\n",
              "      <td>2</td>\n",
              "      <td>356</td>\n",
              "      <td>6923028</td>\n",
              "      <td>{\"total_value\":\"R$ 24,90\",\"brand_name\":\"Spolet...</td>\n",
              "      <td>True</td>\n",
              "      <td>2019-06-22 15:42:00</td>\n",
              "      <td>55619408</td>\n",
              "      <td>Purchase</td>\n",
              "      <td>24.9</td>\n",
              "    </tr>\n",
              "    <tr>\n",
              "      <th>24</th>\n",
              "      <td>499447563</td>\n",
              "      <td>2</td>\n",
              "      <td>356</td>\n",
              "      <td>3978481</td>\n",
              "      <td>{\"total_value\":\"R$ 58,80\",\"brand_name\":\"Spolet...</td>\n",
              "      <td>True</td>\n",
              "      <td>2019-06-22 16:01:00</td>\n",
              "      <td>55624870</td>\n",
              "      <td>Purchase</td>\n",
              "      <td>58.8</td>\n",
              "    </tr>\n",
              "    <tr>\n",
              "      <th>26</th>\n",
              "      <td>499450270</td>\n",
              "      <td>2</td>\n",
              "      <td>356</td>\n",
              "      <td>5027195</td>\n",
              "      <td>{\"total_value\":\"R$ 25,40\",\"brand_name\":\"Spolet...</td>\n",
              "      <td>True</td>\n",
              "      <td>2019-06-22 16:08:00</td>\n",
              "      <td>55626785</td>\n",
              "      <td>Purchase</td>\n",
              "      <td>25.4</td>\n",
              "    </tr>\n",
              "    <tr>\n",
              "      <th>...</th>\n",
              "      <td>...</td>\n",
              "      <td>...</td>\n",
              "      <td>...</td>\n",
              "      <td>...</td>\n",
              "      <td>...</td>\n",
              "      <td>...</td>\n",
              "      <td>...</td>\n",
              "      <td>...</td>\n",
              "      <td>...</td>\n",
              "      <td>...</td>\n",
              "    </tr>\n",
              "    <tr>\n",
              "      <th>178916</th>\n",
              "      <td>528248169</td>\n",
              "      <td>2</td>\n",
              "      <td>377</td>\n",
              "      <td>11511540</td>\n",
              "      <td>{\"total_value\":\"R$ 43,30\",\"brand_name\":\"Spolet...</td>\n",
              "      <td>True</td>\n",
              "      <td>2019-09-25 00:00:00</td>\n",
              "      <td>69879772</td>\n",
              "      <td>Purchase</td>\n",
              "      <td>43.3</td>\n",
              "    </tr>\n",
              "    <tr>\n",
              "      <th>178925</th>\n",
              "      <td>528559313</td>\n",
              "      <td>2</td>\n",
              "      <td>377</td>\n",
              "      <td>11514121</td>\n",
              "      <td>{\"total_value\":\"R$ 28,50\",\"brand_name\":\"Spolet...</td>\n",
              "      <td>True</td>\n",
              "      <td>2019-09-25 14:44:00</td>\n",
              "      <td>69906441</td>\n",
              "      <td>Purchase</td>\n",
              "      <td>28.5</td>\n",
              "    </tr>\n",
              "    <tr>\n",
              "      <th>178934</th>\n",
              "      <td>541522465</td>\n",
              "      <td>2</td>\n",
              "      <td>2375</td>\n",
              "      <td>9104814</td>\n",
              "      <td>{\"total_value\":\"R$ 24,90\",\"brand_name\":\"Spolet...</td>\n",
              "      <td>True</td>\n",
              "      <td>2019-10-25 00:32:00</td>\n",
              "      <td>74297858</td>\n",
              "      <td>Purchase</td>\n",
              "      <td>24.9</td>\n",
              "    </tr>\n",
              "    <tr>\n",
              "      <th>178937</th>\n",
              "      <td>541527545</td>\n",
              "      <td>2</td>\n",
              "      <td>2375</td>\n",
              "      <td>11934655</td>\n",
              "      <td>{\"total_value\":\"R$ 22,90\",\"brand_name\":\"Spolet...</td>\n",
              "      <td>True</td>\n",
              "      <td>2019-10-25 00:48:00</td>\n",
              "      <td>74300669</td>\n",
              "      <td>Purchase</td>\n",
              "      <td>22.9</td>\n",
              "    </tr>\n",
              "    <tr>\n",
              "      <th>178940</th>\n",
              "      <td>541530256</td>\n",
              "      <td>2</td>\n",
              "      <td>2375</td>\n",
              "      <td>11934809</td>\n",
              "      <td>{\"total_value\":\"R$ 43,80\",\"brand_name\":\"Spolet...</td>\n",
              "      <td>True</td>\n",
              "      <td>2019-10-25 00:56:00</td>\n",
              "      <td>74302043</td>\n",
              "      <td>Purchase</td>\n",
              "      <td>43.8</td>\n",
              "    </tr>\n",
              "  </tbody>\n",
              "</table>\n",
              "<p>56528 rows × 10 columns</p>\n",
              "</div>"
            ],
            "text/plain": [
              "               id brand_id store_id  ... object_id object_type  value\n",
              "10      499431394        2      356  ...  55613847    Purchase   18.9\n",
              "15      499436962        2      356  ...  55617711    Purchase   55.7\n",
              "17      499439089        2      356  ...  55619408    Purchase   24.9\n",
              "24      499447563        2      356  ...  55624870    Purchase   58.8\n",
              "26      499450270        2      356  ...  55626785    Purchase   25.4\n",
              "...           ...      ...      ...  ...       ...         ...    ...\n",
              "178916  528248169        2      377  ...  69879772    Purchase   43.3\n",
              "178925  528559313        2      377  ...  69906441    Purchase   28.5\n",
              "178934  541522465        2     2375  ...  74297858    Purchase   24.9\n",
              "178937  541527545        2     2375  ...  74300669    Purchase   22.9\n",
              "178940  541530256        2     2375  ...  74302043    Purchase   43.8\n",
              "\n",
              "[56528 rows x 10 columns]"
            ]
          },
          "metadata": {
            "tags": []
          },
          "execution_count": 62
        }
      ]
    },
    {
      "cell_type": "code",
      "metadata": {
        "id": "NOQzVTQrfUfe"
      },
      "source": [
        "# criando array de clientes que tiveram uma primeira interação\r\n",
        "list_cliente_first = dado[dado['first_interaction']== True]['user_id'].unique()"
      ],
      "execution_count": null,
      "outputs": []
    },
    {
      "cell_type": "code",
      "metadata": {
        "colab": {
          "base_uri": "https://localhost:8080/"
        },
        "id": "dFuRESc0jRg0",
        "outputId": "e4f28958-fa28-4662-950e-55f95266ee42"
      },
      "source": [
        "list_cliente_first"
      ],
      "execution_count": null,
      "outputs": [
        {
          "output_type": "execute_result",
          "data": {
            "text/plain": [
              "array(['9056365', '3933796', '6923028', ..., '9104814', '11934655',\n",
              "       '11934809'], dtype=object)"
            ]
          },
          "metadata": {
            "tags": []
          },
          "execution_count": 64
        }
      ]
    },
    {
      "cell_type": "code",
      "metadata": {
        "id": "LDSmsJxSjZWw"
      },
      "source": [
        "## pegando as vendas destes clientes\r\n",
        "\r\n",
        "vendas  = dado[dado['user_id'].isin(list_cliente_first)]\r\n"
      ],
      "execution_count": null,
      "outputs": []
    },
    {
      "cell_type": "code",
      "metadata": {
        "colab": {
          "base_uri": "https://localhost:8080/",
          "height": 617
        },
        "id": "-X2IPT3zmsol",
        "outputId": "59a2f460-9feb-4c8a-e7e5-24380050a943"
      },
      "source": [
        "vendas"
      ],
      "execution_count": null,
      "outputs": [
        {
          "output_type": "execute_result",
          "data": {
            "text/html": [
              "<div>\n",
              "<style scoped>\n",
              "    .dataframe tbody tr th:only-of-type {\n",
              "        vertical-align: middle;\n",
              "    }\n",
              "\n",
              "    .dataframe tbody tr th {\n",
              "        vertical-align: top;\n",
              "    }\n",
              "\n",
              "    .dataframe thead th {\n",
              "        text-align: right;\n",
              "    }\n",
              "</style>\n",
              "<table border=\"1\" class=\"dataframe\">\n",
              "  <thead>\n",
              "    <tr style=\"text-align: right;\">\n",
              "      <th></th>\n",
              "      <th>id</th>\n",
              "      <th>brand_id</th>\n",
              "      <th>store_id</th>\n",
              "      <th>user_id</th>\n",
              "      <th>data</th>\n",
              "      <th>first_interaction</th>\n",
              "      <th>interacted_at</th>\n",
              "      <th>object_id</th>\n",
              "      <th>object_type</th>\n",
              "      <th>value</th>\n",
              "    </tr>\n",
              "  </thead>\n",
              "  <tbody>\n",
              "    <tr>\n",
              "      <th>1</th>\n",
              "      <td>499331703</td>\n",
              "      <td>2</td>\n",
              "      <td>356</td>\n",
              "      <td>4422611</td>\n",
              "      <td>{\"comment\":\"\",\"rating\":5,\"tags\":[\"Atendimento\"...</td>\n",
              "      <td>False</td>\n",
              "      <td>2019-06-22 00:11:00</td>\n",
              "      <td>4327945</td>\n",
              "      <td>Review</td>\n",
              "      <td>0.0</td>\n",
              "    </tr>\n",
              "    <tr>\n",
              "      <th>10</th>\n",
              "      <td>499431394</td>\n",
              "      <td>2</td>\n",
              "      <td>356</td>\n",
              "      <td>9056365</td>\n",
              "      <td>{\"total_value\":\"R$ 18,90\",\"brand_name\":\"Spolet...</td>\n",
              "      <td>True</td>\n",
              "      <td>2019-06-22 15:20:00</td>\n",
              "      <td>55613847</td>\n",
              "      <td>Purchase</td>\n",
              "      <td>18.9</td>\n",
              "    </tr>\n",
              "    <tr>\n",
              "      <th>14</th>\n",
              "      <td>499435472</td>\n",
              "      <td>2</td>\n",
              "      <td>356</td>\n",
              "      <td>4049222</td>\n",
              "      <td>{\"comment\":\"\",\"rating\":5,\"tags\":[\"Atendimento\"]}</td>\n",
              "      <td>False</td>\n",
              "      <td>2019-06-22 15:32:00</td>\n",
              "      <td>4329070</td>\n",
              "      <td>Review</td>\n",
              "      <td>0.0</td>\n",
              "    </tr>\n",
              "    <tr>\n",
              "      <th>15</th>\n",
              "      <td>499436962</td>\n",
              "      <td>2</td>\n",
              "      <td>356</td>\n",
              "      <td>3933796</td>\n",
              "      <td>{\"total_value\":\"R$ 55,70\",\"brand_name\":\"Spolet...</td>\n",
              "      <td>True</td>\n",
              "      <td>2019-06-22 15:35:00</td>\n",
              "      <td>55617711</td>\n",
              "      <td>Purchase</td>\n",
              "      <td>55.7</td>\n",
              "    </tr>\n",
              "    <tr>\n",
              "      <th>16</th>\n",
              "      <td>499438586</td>\n",
              "      <td>2</td>\n",
              "      <td>356</td>\n",
              "      <td>6238367</td>\n",
              "      <td>{\"total_value\":\"R$ 24,90\",\"brand_name\":\"Spolet...</td>\n",
              "      <td>False</td>\n",
              "      <td>2019-06-22 15:40:00</td>\n",
              "      <td>55619072</td>\n",
              "      <td>Purchase</td>\n",
              "      <td>24.9</td>\n",
              "    </tr>\n",
              "    <tr>\n",
              "      <th>...</th>\n",
              "      <td>...</td>\n",
              "      <td>...</td>\n",
              "      <td>...</td>\n",
              "      <td>...</td>\n",
              "      <td>...</td>\n",
              "      <td>...</td>\n",
              "      <td>...</td>\n",
              "      <td>...</td>\n",
              "      <td>...</td>\n",
              "      <td>...</td>\n",
              "    </tr>\n",
              "    <tr>\n",
              "      <th>178933</th>\n",
              "      <td>541520825</td>\n",
              "      <td>2</td>\n",
              "      <td>2375</td>\n",
              "      <td>11932226</td>\n",
              "      <td>{\"comment\":\"\",\"rating\":4,\"tags\":[\"Atendimento\"...</td>\n",
              "      <td>False</td>\n",
              "      <td>2019-10-25 00:27:00</td>\n",
              "      <td>4944821</td>\n",
              "      <td>Review</td>\n",
              "      <td>0.0</td>\n",
              "    </tr>\n",
              "    <tr>\n",
              "      <th>178934</th>\n",
              "      <td>541522465</td>\n",
              "      <td>2</td>\n",
              "      <td>2375</td>\n",
              "      <td>9104814</td>\n",
              "      <td>{\"total_value\":\"R$ 24,90\",\"brand_name\":\"Spolet...</td>\n",
              "      <td>True</td>\n",
              "      <td>2019-10-25 00:32:00</td>\n",
              "      <td>74297858</td>\n",
              "      <td>Purchase</td>\n",
              "      <td>24.9</td>\n",
              "    </tr>\n",
              "    <tr>\n",
              "      <th>178937</th>\n",
              "      <td>541527545</td>\n",
              "      <td>2</td>\n",
              "      <td>2375</td>\n",
              "      <td>11934655</td>\n",
              "      <td>{\"total_value\":\"R$ 22,90\",\"brand_name\":\"Spolet...</td>\n",
              "      <td>True</td>\n",
              "      <td>2019-10-25 00:48:00</td>\n",
              "      <td>74300669</td>\n",
              "      <td>Purchase</td>\n",
              "      <td>22.9</td>\n",
              "    </tr>\n",
              "    <tr>\n",
              "      <th>178938</th>\n",
              "      <td>541528217</td>\n",
              "      <td>2</td>\n",
              "      <td>2375</td>\n",
              "      <td>9919020</td>\n",
              "      <td>{\"total_value\":\"R$ 24,50\",\"brand_name\":\"Spolet...</td>\n",
              "      <td>False</td>\n",
              "      <td>2019-10-25 00:50:00</td>\n",
              "      <td>74301028</td>\n",
              "      <td>Purchase</td>\n",
              "      <td>24.5</td>\n",
              "    </tr>\n",
              "    <tr>\n",
              "      <th>178940</th>\n",
              "      <td>541530256</td>\n",
              "      <td>2</td>\n",
              "      <td>2375</td>\n",
              "      <td>11934809</td>\n",
              "      <td>{\"total_value\":\"R$ 43,80\",\"brand_name\":\"Spolet...</td>\n",
              "      <td>True</td>\n",
              "      <td>2019-10-25 00:56:00</td>\n",
              "      <td>74302043</td>\n",
              "      <td>Purchase</td>\n",
              "      <td>43.8</td>\n",
              "    </tr>\n",
              "  </tbody>\n",
              "</table>\n",
              "<p>104447 rows × 10 columns</p>\n",
              "</div>"
            ],
            "text/plain": [
              "               id brand_id store_id  ... object_id object_type  value\n",
              "1       499331703        2      356  ...   4327945      Review    0.0\n",
              "10      499431394        2      356  ...  55613847    Purchase   18.9\n",
              "14      499435472        2      356  ...   4329070      Review    0.0\n",
              "15      499436962        2      356  ...  55617711    Purchase   55.7\n",
              "16      499438586        2      356  ...  55619072    Purchase   24.9\n",
              "...           ...      ...      ...  ...       ...         ...    ...\n",
              "178933  541520825        2     2375  ...   4944821      Review    0.0\n",
              "178934  541522465        2     2375  ...  74297858    Purchase   24.9\n",
              "178937  541527545        2     2375  ...  74300669    Purchase   22.9\n",
              "178938  541528217        2     2375  ...  74301028    Purchase   24.5\n",
              "178940  541530256        2     2375  ...  74302043    Purchase   43.8\n",
              "\n",
              "[104447 rows x 10 columns]"
            ]
          },
          "metadata": {
            "tags": []
          },
          "execution_count": 66
        }
      ]
    },
    {
      "cell_type": "markdown",
      "metadata": {
        "id": "xPuBlLQsfu_F"
      },
      "source": [
        "Maiores frequencias de clientes"
      ]
    },
    {
      "cell_type": "code",
      "metadata": {
        "colab": {
          "base_uri": "https://localhost:8080/"
        },
        "id": "DNryRTAljmiw",
        "outputId": "c033eabe-7871-4ac2-9da2-0ddb9968a7f9"
      },
      "source": [
        "vendas['user_id'].value_counts()"
      ],
      "execution_count": null,
      "outputs": [
        {
          "output_type": "execute_result",
          "data": {
            "text/plain": [
              "4903322     68\n",
              "1711189     58\n",
              "3846196     55\n",
              "9542884     51\n",
              "3525314     49\n",
              "            ..\n",
              "8255817      1\n",
              "11312614     1\n",
              "9128690      1\n",
              "6314730      1\n",
              "9493398      1\n",
              "Name: user_id, Length: 54743, dtype: int64"
            ]
          },
          "metadata": {
            "tags": []
          },
          "execution_count": 67
        }
      ]
    },
    {
      "cell_type": "code",
      "metadata": {
        "colab": {
          "base_uri": "https://localhost:8080/"
        },
        "id": "GS1K4QzPkA_i",
        "outputId": "15682023-3ead-4ab3-c148-84050d243880"
      },
      "source": [
        "\r\n",
        "vendas[vendas['user_id']== '8483188']['first_interaction'].value_counts()"
      ],
      "execution_count": null,
      "outputs": [
        {
          "output_type": "execute_result",
          "data": {
            "text/plain": [
              "False    17\n",
              "True      4\n",
              "Name: first_interaction, dtype: int64"
            ]
          },
          "metadata": {
            "tags": []
          },
          "execution_count": 68
        }
      ]
    },
    {
      "cell_type": "code",
      "metadata": {
        "id": "JkgnEJX8pROW"
      },
      "source": [
        "a  = vendas[(vendas['user_id']== '8483188') & (vendas['object_type']=='Purchase')].sort_values('interacted_at')"
      ],
      "execution_count": null,
      "outputs": []
    },
    {
      "cell_type": "code",
      "metadata": {
        "id": "JUcdjIeWqhyO",
        "colab": {
          "base_uri": "https://localhost:8080/",
          "height": 537
        },
        "outputId": "37509f2a-77c2-4703-c072-3d950dd4d5cc"
      },
      "source": [
        "a"
      ],
      "execution_count": null,
      "outputs": [
        {
          "output_type": "execute_result",
          "data": {
            "text/html": [
              "<div>\n",
              "<style scoped>\n",
              "    .dataframe tbody tr th:only-of-type {\n",
              "        vertical-align: middle;\n",
              "    }\n",
              "\n",
              "    .dataframe tbody tr th {\n",
              "        vertical-align: top;\n",
              "    }\n",
              "\n",
              "    .dataframe thead th {\n",
              "        text-align: right;\n",
              "    }\n",
              "</style>\n",
              "<table border=\"1\" class=\"dataframe\">\n",
              "  <thead>\n",
              "    <tr style=\"text-align: right;\">\n",
              "      <th></th>\n",
              "      <th>id</th>\n",
              "      <th>brand_id</th>\n",
              "      <th>store_id</th>\n",
              "      <th>user_id</th>\n",
              "      <th>data</th>\n",
              "      <th>first_interaction</th>\n",
              "      <th>interacted_at</th>\n",
              "      <th>object_id</th>\n",
              "      <th>object_type</th>\n",
              "      <th>value</th>\n",
              "    </tr>\n",
              "  </thead>\n",
              "  <tbody>\n",
              "    <tr>\n",
              "      <th>35551</th>\n",
              "      <td>463517380</td>\n",
              "      <td>2</td>\n",
              "      <td>4319</td>\n",
              "      <td>8483188</td>\n",
              "      <td>{\"total_value\":\"R$ 22,10\",\"brand_name\":\"Spolet...</td>\n",
              "      <td>True</td>\n",
              "      <td>2019-01-05 18:44:00</td>\n",
              "      <td>47770254</td>\n",
              "      <td>Purchase</td>\n",
              "      <td>22.10</td>\n",
              "    </tr>\n",
              "    <tr>\n",
              "      <th>600</th>\n",
              "      <td>503623481</td>\n",
              "      <td>2</td>\n",
              "      <td>376</td>\n",
              "      <td>8483188</td>\n",
              "      <td>{\"total_value\":\"R$ 23,90\",\"brand_name\":\"Spolet...</td>\n",
              "      <td>False</td>\n",
              "      <td>2019-02-07 21:20:00</td>\n",
              "      <td>57178970</td>\n",
              "      <td>Purchase</td>\n",
              "      <td>23.90</td>\n",
              "    </tr>\n",
              "    <tr>\n",
              "      <th>75614</th>\n",
              "      <td>504007471</td>\n",
              "      <td>2</td>\n",
              "      <td>376</td>\n",
              "      <td>8483188</td>\n",
              "      <td>{\"total_value\":\"R$ 29,90\",\"brand_name\":\"Spolet...</td>\n",
              "      <td>False</td>\n",
              "      <td>2019-04-07 14:40:00</td>\n",
              "      <td>57385644</td>\n",
              "      <td>Purchase</td>\n",
              "      <td>29.90</td>\n",
              "    </tr>\n",
              "    <tr>\n",
              "      <th>36747</th>\n",
              "      <td>445948069</td>\n",
              "      <td>2</td>\n",
              "      <td>376</td>\n",
              "      <td>8483188</td>\n",
              "      <td>{\"total_value\":\"R$ 21,00\",\"brand_name\":\"Spolet...</td>\n",
              "      <td>True</td>\n",
              "      <td>2019-04-19 17:10:00</td>\n",
              "      <td>46082277</td>\n",
              "      <td>Purchase</td>\n",
              "      <td>21.00</td>\n",
              "    </tr>\n",
              "    <tr>\n",
              "      <th>440</th>\n",
              "      <td>499509090</td>\n",
              "      <td>2</td>\n",
              "      <td>4828</td>\n",
              "      <td>8483188</td>\n",
              "      <td>{\"total_value\":\"R$ 22,90\",\"brand_name\":\"Spolet...</td>\n",
              "      <td>False</td>\n",
              "      <td>2019-06-22 18:35:00</td>\n",
              "      <td>55667273</td>\n",
              "      <td>Purchase</td>\n",
              "      <td>22.90</td>\n",
              "    </tr>\n",
              "    <tr>\n",
              "      <th>4132</th>\n",
              "      <td>500660671</td>\n",
              "      <td>2</td>\n",
              "      <td>4828</td>\n",
              "      <td>8483188</td>\n",
              "      <td>{\"total_value\":\"R$ 38,89\",\"brand_name\":\"Spolet...</td>\n",
              "      <td>False</td>\n",
              "      <td>2019-06-25 20:58:00</td>\n",
              "      <td>56147697</td>\n",
              "      <td>Purchase</td>\n",
              "      <td>38.89</td>\n",
              "    </tr>\n",
              "    <tr>\n",
              "      <th>13373</th>\n",
              "      <td>500938272</td>\n",
              "      <td>2</td>\n",
              "      <td>376</td>\n",
              "      <td>8483188</td>\n",
              "      <td>{\"total_value\":\"R$ 21,90\",\"brand_name\":\"Spolet...</td>\n",
              "      <td>False</td>\n",
              "      <td>2019-06-26 14:40:00</td>\n",
              "      <td>56207951</td>\n",
              "      <td>Purchase</td>\n",
              "      <td>21.90</td>\n",
              "    </tr>\n",
              "    <tr>\n",
              "      <th>95103</th>\n",
              "      <td>510146985</td>\n",
              "      <td>2</td>\n",
              "      <td>376</td>\n",
              "      <td>8483188</td>\n",
              "      <td>{\"total_value\":\"R$ 49,90\",\"brand_name\":\"Spolet...</td>\n",
              "      <td>False</td>\n",
              "      <td>2019-07-26 14:43:00</td>\n",
              "      <td>60706544</td>\n",
              "      <td>Purchase</td>\n",
              "      <td>49.90</td>\n",
              "    </tr>\n",
              "    <tr>\n",
              "      <th>32855</th>\n",
              "      <td>495982205</td>\n",
              "      <td>2</td>\n",
              "      <td>4828</td>\n",
              "      <td>8483188</td>\n",
              "      <td>{\"total_value\":\"R$ 21,00\",\"brand_name\":\"Spolet...</td>\n",
              "      <td>True</td>\n",
              "      <td>2019-09-06 20:18:00</td>\n",
              "      <td>53689265</td>\n",
              "      <td>Purchase</td>\n",
              "      <td>21.00</td>\n",
              "    </tr>\n",
              "    <tr>\n",
              "      <th>171086</th>\n",
              "      <td>538946450</td>\n",
              "      <td>2</td>\n",
              "      <td>4319</td>\n",
              "      <td>8483188</td>\n",
              "      <td>{\"total_value\":\"R$ 27,00\",\"brand_name\":\"Spolet...</td>\n",
              "      <td>False</td>\n",
              "      <td>2019-10-18 19:56:00</td>\n",
              "      <td>73441303</td>\n",
              "      <td>Purchase</td>\n",
              "      <td>27.00</td>\n",
              "    </tr>\n",
              "  </tbody>\n",
              "</table>\n",
              "</div>"
            ],
            "text/plain": [
              "               id brand_id store_id  ... object_id object_type  value\n",
              "35551   463517380        2     4319  ...  47770254    Purchase  22.10\n",
              "600     503623481        2      376  ...  57178970    Purchase  23.90\n",
              "75614   504007471        2      376  ...  57385644    Purchase  29.90\n",
              "36747   445948069        2      376  ...  46082277    Purchase  21.00\n",
              "440     499509090        2     4828  ...  55667273    Purchase  22.90\n",
              "4132    500660671        2     4828  ...  56147697    Purchase  38.89\n",
              "13373   500938272        2      376  ...  56207951    Purchase  21.90\n",
              "95103   510146985        2      376  ...  60706544    Purchase  49.90\n",
              "32855   495982205        2     4828  ...  53689265    Purchase  21.00\n",
              "171086  538946450        2     4319  ...  73441303    Purchase  27.00\n",
              "\n",
              "[10 rows x 10 columns]"
            ]
          },
          "metadata": {
            "tags": []
          },
          "execution_count": 70
        }
      ]
    },
    {
      "cell_type": "markdown",
      "metadata": {
        "id": "hwtTz4WswGWi"
      },
      "source": [
        "Encontrada incosistencia nos dados, pois o cliente 8483188, na data 2019-09-06 20:18:00 está registrada primeira interação com a loja 4828, porém em 2019-06-22 18:35:00 possuem registros de compra do cliente."
      ]
    },
    {
      "cell_type": "code",
      "metadata": {
        "colab": {
          "base_uri": "https://localhost:8080/"
        },
        "id": "iS7-5I56qXSo",
        "outputId": "7adc8675-211c-4f46-85c5-5f7a3f2e86ac"
      },
      "source": [
        "for data in a['data']:\r\n",
        "  print(data)"
      ],
      "execution_count": null,
      "outputs": [
        {
          "output_type": "stream",
          "text": [
            "{\"total_value\":\"R$ 22,10\",\"brand_name\":\"Spoleto\",\"count\":1}\n",
            "{\"total_value\":\"R$ 23,90\",\"brand_name\":\"Spoleto\",\"count\":1}\n",
            "{\"total_value\":\"R$ 29,90\",\"brand_name\":\"Spoleto\",\"count\":1}\n",
            "{\"total_value\":\"R$ 21,00\",\"brand_name\":\"Spoleto\",\"count\":1}\n",
            "{\"total_value\":\"R$ 22,90\",\"brand_name\":\"Spoleto\",\"count\":1}\n",
            "{\"total_value\":\"R$ 38,89\",\"brand_name\":\"Spoleto\",\"count\":2}\n",
            "{\"total_value\":\"R$ 21,90\",\"brand_name\":\"Spoleto\",\"count\":1}\n",
            "{\"total_value\":\"R$ 49,90\",\"brand_name\":\"Spoleto\",\"count\":2}\n",
            "{\"total_value\":\"R$ 21,00\",\"brand_name\":\"Spoleto\",\"count\":1}\n",
            "{\"total_value\":\"R$ 27,00\",\"brand_name\":\"Spoleto\",\"count\":1}\n"
          ],
          "name": "stdout"
        }
      ]
    },
    {
      "cell_type": "code",
      "metadata": {
        "colab": {
          "base_uri": "https://localhost:8080/"
        },
        "id": "2nMcEO4-lCEv",
        "outputId": "4701f975-a636-48de-f11c-2b20244590f7"
      },
      "source": [
        "vendas[(vendas['user_id']== '4903322')]['interacted_at'].min()"
      ],
      "execution_count": null,
      "outputs": [
        {
          "output_type": "execute_result",
          "data": {
            "text/plain": [
              "Timestamp('2019-01-06 15:20:00')"
            ]
          },
          "metadata": {
            "tags": []
          },
          "execution_count": 72
        }
      ]
    },
    {
      "cell_type": "code",
      "metadata": {
        "colab": {
          "base_uri": "https://localhost:8080/",
          "height": 537
        },
        "id": "RwNpcyEToDLs",
        "outputId": "e89ba713-4e8e-444d-ce7e-43eb94a86841"
      },
      "source": [
        "vendas[(vendas['user_id']== '4903322') & (vendas['store_id']=='376')].sort_values('interacted_at')"
      ],
      "execution_count": null,
      "outputs": [
        {
          "output_type": "execute_result",
          "data": {
            "text/html": [
              "<div>\n",
              "<style scoped>\n",
              "    .dataframe tbody tr th:only-of-type {\n",
              "        vertical-align: middle;\n",
              "    }\n",
              "\n",
              "    .dataframe tbody tr th {\n",
              "        vertical-align: top;\n",
              "    }\n",
              "\n",
              "    .dataframe thead th {\n",
              "        text-align: right;\n",
              "    }\n",
              "</style>\n",
              "<table border=\"1\" class=\"dataframe\">\n",
              "  <thead>\n",
              "    <tr style=\"text-align: right;\">\n",
              "      <th></th>\n",
              "      <th>id</th>\n",
              "      <th>brand_id</th>\n",
              "      <th>store_id</th>\n",
              "      <th>user_id</th>\n",
              "      <th>data</th>\n",
              "      <th>first_interaction</th>\n",
              "      <th>interacted_at</th>\n",
              "      <th>object_id</th>\n",
              "      <th>object_type</th>\n",
              "      <th>value</th>\n",
              "    </tr>\n",
              "  </thead>\n",
              "  <tbody>\n",
              "    <tr>\n",
              "      <th>22791</th>\n",
              "      <td>468089599</td>\n",
              "      <td>2</td>\n",
              "      <td>376</td>\n",
              "      <td>4903322</td>\n",
              "      <td>{\"reward_name\":\"Massa Tradizionale\",\"brand_nam...</td>\n",
              "      <td>True</td>\n",
              "      <td>2019-04-05 15:37:00</td>\n",
              "      <td>26</td>\n",
              "      <td>Reward</td>\n",
              "      <td>6.0</td>\n",
              "    </tr>\n",
              "    <tr>\n",
              "      <th>22840</th>\n",
              "      <td>468227457</td>\n",
              "      <td>2</td>\n",
              "      <td>376</td>\n",
              "      <td>4903322</td>\n",
              "      <td>{\"total_value\":\"R$ 28,90\",\"brand_name\":\"Spolet...</td>\n",
              "      <td>False</td>\n",
              "      <td>2019-04-05 16:32:00</td>\n",
              "      <td>48227922</td>\n",
              "      <td>Purchase</td>\n",
              "      <td>28.9</td>\n",
              "    </tr>\n",
              "    <tr>\n",
              "      <th>22794</th>\n",
              "      <td>468237384</td>\n",
              "      <td>2</td>\n",
              "      <td>376</td>\n",
              "      <td>4903322</td>\n",
              "      <td>{\"reward_name\":\"Massa Tradizionale\",\"brand_nam...</td>\n",
              "      <td>False</td>\n",
              "      <td>2019-04-05 16:41:00</td>\n",
              "      <td>26</td>\n",
              "      <td>Reward</td>\n",
              "      <td>6.0</td>\n",
              "    </tr>\n",
              "    <tr>\n",
              "      <th>130077</th>\n",
              "      <td>522308919</td>\n",
              "      <td>2</td>\n",
              "      <td>376</td>\n",
              "      <td>4903322</td>\n",
              "      <td>{\"total_value\":\"R$ 56,80\",\"brand_name\":\"Spolet...</td>\n",
              "      <td>False</td>\n",
              "      <td>2019-06-09 17:06:00</td>\n",
              "      <td>67031519</td>\n",
              "      <td>Purchase</td>\n",
              "      <td>56.8</td>\n",
              "    </tr>\n",
              "    <tr>\n",
              "      <th>113946</th>\n",
              "      <td>516231068</td>\n",
              "      <td>2</td>\n",
              "      <td>376</td>\n",
              "      <td>4903322</td>\n",
              "      <td>{\"total_value\":\"R$ 52,90\",\"brand_name\":\"Spolet...</td>\n",
              "      <td>False</td>\n",
              "      <td>2019-08-17 15:06:00</td>\n",
              "      <td>64014639</td>\n",
              "      <td>Purchase</td>\n",
              "      <td>52.9</td>\n",
              "    </tr>\n",
              "    <tr>\n",
              "      <th>128144</th>\n",
              "      <td>520125006</td>\n",
              "      <td>2</td>\n",
              "      <td>376</td>\n",
              "      <td>4903322</td>\n",
              "      <td>{\"offer_name\":\"Tem creme de chocolate GRÁTIS p...</td>\n",
              "      <td>False</td>\n",
              "      <td>2019-08-30 16:54:00</td>\n",
              "      <td>31498</td>\n",
              "      <td>Offer</td>\n",
              "      <td>0.0</td>\n",
              "    </tr>\n",
              "    <tr>\n",
              "      <th>128201</th>\n",
              "      <td>520126053</td>\n",
              "      <td>2</td>\n",
              "      <td>376</td>\n",
              "      <td>4903322</td>\n",
              "      <td>{\"total_value\":\"R$ 65,20\",\"brand_name\":\"Spolet...</td>\n",
              "      <td>False</td>\n",
              "      <td>2019-08-30 16:54:00</td>\n",
              "      <td>65940182</td>\n",
              "      <td>Purchase</td>\n",
              "      <td>65.2</td>\n",
              "    </tr>\n",
              "    <tr>\n",
              "      <th>124028</th>\n",
              "      <td>520436462</td>\n",
              "      <td>2</td>\n",
              "      <td>376</td>\n",
              "      <td>4903322</td>\n",
              "      <td>{\"reward_name\":\"Massa Tradizionale\",\"brand_nam...</td>\n",
              "      <td>False</td>\n",
              "      <td>2019-08-31 16:56:00</td>\n",
              "      <td>26</td>\n",
              "      <td>Reward</td>\n",
              "      <td>6.0</td>\n",
              "    </tr>\n",
              "    <tr>\n",
              "      <th>124029</th>\n",
              "      <td>520437672</td>\n",
              "      <td>2</td>\n",
              "      <td>376</td>\n",
              "      <td>4903322</td>\n",
              "      <td>{\"total_value\":\"R$ 48,40\",\"brand_name\":\"Spolet...</td>\n",
              "      <td>False</td>\n",
              "      <td>2019-08-31 16:56:00</td>\n",
              "      <td>66106991</td>\n",
              "      <td>Purchase</td>\n",
              "      <td>48.4</td>\n",
              "    </tr>\n",
              "    <tr>\n",
              "      <th>147671</th>\n",
              "      <td>530169034</td>\n",
              "      <td>2</td>\n",
              "      <td>376</td>\n",
              "      <td>4903322</td>\n",
              "      <td>{\"total_value\":\"R$ 24,90\",\"brand_name\":\"Spolet...</td>\n",
              "      <td>False</td>\n",
              "      <td>2019-09-27 16:45:00</td>\n",
              "      <td>70250554</td>\n",
              "      <td>Purchase</td>\n",
              "      <td>24.9</td>\n",
              "    </tr>\n",
              "  </tbody>\n",
              "</table>\n",
              "</div>"
            ],
            "text/plain": [
              "               id brand_id store_id  ... object_id object_type  value\n",
              "22791   468089599        2      376  ...        26      Reward    6.0\n",
              "22840   468227457        2      376  ...  48227922    Purchase   28.9\n",
              "22794   468237384        2      376  ...        26      Reward    6.0\n",
              "130077  522308919        2      376  ...  67031519    Purchase   56.8\n",
              "113946  516231068        2      376  ...  64014639    Purchase   52.9\n",
              "128144  520125006        2      376  ...     31498       Offer    0.0\n",
              "128201  520126053        2      376  ...  65940182    Purchase   65.2\n",
              "124028  520436462        2      376  ...        26      Reward    6.0\n",
              "124029  520437672        2      376  ...  66106991    Purchase   48.4\n",
              "147671  530169034        2      376  ...  70250554    Purchase   24.9\n",
              "\n",
              "[10 rows x 10 columns]"
            ]
          },
          "metadata": {
            "tags": []
          },
          "execution_count": 73
        }
      ]
    },
    {
      "cell_type": "code",
      "metadata": {
        "colab": {
          "base_uri": "https://localhost:8080/"
        },
        "id": "S4OH90FhmcQX",
        "outputId": "be6f7cd2-5e4e-47e4-f9d5-077767d3c447"
      },
      "source": [
        "vendas[(vendas['user_id']== '4903322') ]['store_id'].unique()"
      ],
      "execution_count": null,
      "outputs": [
        {
          "output_type": "execute_result",
          "data": {
            "text/plain": [
              "array(['4319', '376'], dtype=object)"
            ]
          },
          "metadata": {
            "tags": []
          },
          "execution_count": 74
        }
      ]
    },
    {
      "cell_type": "code",
      "metadata": {
        "colab": {
          "base_uri": "https://localhost:8080/",
          "height": 98
        },
        "id": "prJQH29-kwNI",
        "outputId": "3be9383b-044b-4ac4-9a15-bccbc6b806f8"
      },
      "source": [
        "vendas[(vendas['user_id']== '4903322') & (vendas['first_interaction']==True)]"
      ],
      "execution_count": null,
      "outputs": [
        {
          "output_type": "execute_result",
          "data": {
            "text/html": [
              "<div>\n",
              "<style scoped>\n",
              "    .dataframe tbody tr th:only-of-type {\n",
              "        vertical-align: middle;\n",
              "    }\n",
              "\n",
              "    .dataframe tbody tr th {\n",
              "        vertical-align: top;\n",
              "    }\n",
              "\n",
              "    .dataframe thead th {\n",
              "        text-align: right;\n",
              "    }\n",
              "</style>\n",
              "<table border=\"1\" class=\"dataframe\">\n",
              "  <thead>\n",
              "    <tr style=\"text-align: right;\">\n",
              "      <th></th>\n",
              "      <th>id</th>\n",
              "      <th>brand_id</th>\n",
              "      <th>store_id</th>\n",
              "      <th>user_id</th>\n",
              "      <th>data</th>\n",
              "      <th>first_interaction</th>\n",
              "      <th>interacted_at</th>\n",
              "      <th>object_id</th>\n",
              "      <th>object_type</th>\n",
              "      <th>value</th>\n",
              "    </tr>\n",
              "  </thead>\n",
              "  <tbody>\n",
              "    <tr>\n",
              "      <th>22791</th>\n",
              "      <td>468089599</td>\n",
              "      <td>2</td>\n",
              "      <td>376</td>\n",
              "      <td>4903322</td>\n",
              "      <td>{\"reward_name\":\"Massa Tradizionale\",\"brand_nam...</td>\n",
              "      <td>True</td>\n",
              "      <td>2019-04-05 15:37:00</td>\n",
              "      <td>26</td>\n",
              "      <td>Reward</td>\n",
              "      <td>6.0</td>\n",
              "    </tr>\n",
              "  </tbody>\n",
              "</table>\n",
              "</div>"
            ],
            "text/plain": [
              "              id brand_id store_id  ... object_id object_type  value\n",
              "22791  468089599        2      376  ...        26      Reward    6.0\n",
              "\n",
              "[1 rows x 10 columns]"
            ]
          },
          "metadata": {
            "tags": []
          },
          "execution_count": 75
        }
      ]
    },
    {
      "cell_type": "code",
      "metadata": {
        "id": "Ps5jBeTFiBkS"
      },
      "source": [
        "# vendas['interacted_at'] = pd.to_datetime(vendas['interacted_at'])"
      ],
      "execution_count": null,
      "outputs": []
    },
    {
      "cell_type": "code",
      "metadata": {
        "colab": {
          "base_uri": "https://localhost:8080/"
        },
        "id": "CtB31tF-iISC",
        "outputId": "b5597748-5ffa-4fe4-8f36-240b8f24fbe6"
      },
      "source": [
        "vendas['interacted_at']"
      ],
      "execution_count": null,
      "outputs": [
        {
          "output_type": "execute_result",
          "data": {
            "text/plain": [
              "1        2019-06-22 00:11:00\n",
              "10       2019-06-22 15:20:00\n",
              "14       2019-06-22 15:32:00\n",
              "15       2019-06-22 15:35:00\n",
              "16       2019-06-22 15:40:00\n",
              "                 ...        \n",
              "178933   2019-10-25 00:27:00\n",
              "178934   2019-10-25 00:32:00\n",
              "178937   2019-10-25 00:48:00\n",
              "178938   2019-10-25 00:50:00\n",
              "178940   2019-10-25 00:56:00\n",
              "Name: interacted_at, Length: 104447, dtype: datetime64[ns]"
            ]
          },
          "metadata": {
            "tags": []
          },
          "execution_count": 77
        }
      ]
    },
    {
      "cell_type": "code",
      "metadata": {
        "colab": {
          "base_uri": "https://localhost:8080/"
        },
        "id": "kZGpj9HU_jF6",
        "outputId": "9b62e694-0186-46fa-ae38-2d81a9b17ba8"
      },
      "source": [
        "vendas[\"user_id\"].astype(str)\r\n",
        "vendas[\"user_id\"].describe()"
      ],
      "execution_count": null,
      "outputs": [
        {
          "output_type": "execute_result",
          "data": {
            "text/plain": [
              "count      104447\n",
              "unique      54743\n",
              "top       4903322\n",
              "freq           68\n",
              "Name: user_id, dtype: object"
            ]
          },
          "metadata": {
            "tags": []
          },
          "execution_count": 78
        }
      ]
    },
    {
      "cell_type": "code",
      "metadata": {
        "id": "Clx-_T0Of4Xn"
      },
      "source": [
        "# teste.loc[teste.user_id == \"8483188\"]\r\n",
        "\r\n"
      ],
      "execution_count": null,
      "outputs": []
    },
    {
      "cell_type": "code",
      "metadata": {
        "id": "MSiUpZkc6ZJX",
        "colab": {
          "base_uri": "https://localhost:8080/",
          "height": 36
        },
        "outputId": "39cbb204-d44f-407c-f4d7-3a4f7d2e8c07"
      },
      "source": [
        "# após primeira interação com a marca mais de 40% retornam  #54743 total\r\n",
        "\r\n",
        "vendas[\"user_id\"].min()"
      ],
      "execution_count": null,
      "outputs": [
        {
          "output_type": "execute_result",
          "data": {
            "application/vnd.google.colaboratory.intrinsic+json": {
              "type": "string"
            },
            "text/plain": [
              "'10000083'"
            ]
          },
          "metadata": {
            "tags": []
          },
          "execution_count": 80
        }
      ]
    },
    {
      "cell_type": "code",
      "metadata": {
        "id": "M-NewCloUHhe"
      },
      "source": [
        ""
      ],
      "execution_count": null,
      "outputs": []
    },
    {
      "cell_type": "code",
      "metadata": {
        "colab": {
          "base_uri": "https://localhost:8080/"
        },
        "id": "dWijHkY168RZ",
        "outputId": "ca0f95e8-9de7-410b-d5cc-bf3dc7405598"
      },
      "source": [
        "\r\n",
        "\r\n",
        "remove_reviews = vendas.loc[(vendas['object_type'] == \"Review\")]\r\n",
        "\r\n",
        "dt_sem_reviews = vendas.drop(remove_reviews.index)\r\n",
        "\r\n",
        "dt_sem_reviews[\"user_id\"].describe()"
      ],
      "execution_count": null,
      "outputs": [
        {
          "output_type": "execute_result",
          "data": {
            "text/plain": [
              "count       95200\n",
              "unique      54743\n",
              "top       4903322\n",
              "freq           58\n",
              "Name: user_id, dtype: object"
            ]
          },
          "metadata": {
            "tags": []
          },
          "execution_count": 81
        }
      ]
    },
    {
      "cell_type": "code",
      "metadata": {
        "colab": {
          "base_uri": "https://localhost:8080/",
          "height": 617
        },
        "id": "rorYzrvNw8DD",
        "outputId": "9365bbd7-046a-49cf-b862-43bb5cb8d133"
      },
      "source": [
        "reviews = vendas[vendas['object_type']== \"Review\"]['user_id'].unique()   #id de quem tem review\r\n",
        "reviews_completas = vendas[vendas['object_type']== \"Review\"]     \r\n",
        "\r\n",
        "dt_dado = vendas.drop(reviews_completas.index)\r\n",
        "\r\n",
        "dt_dado[dt_dado[\"user_id\"].isin(reviews)]"
      ],
      "execution_count": null,
      "outputs": [
        {
          "output_type": "execute_result",
          "data": {
            "text/html": [
              "<div>\n",
              "<style scoped>\n",
              "    .dataframe tbody tr th:only-of-type {\n",
              "        vertical-align: middle;\n",
              "    }\n",
              "\n",
              "    .dataframe tbody tr th {\n",
              "        vertical-align: top;\n",
              "    }\n",
              "\n",
              "    .dataframe thead th {\n",
              "        text-align: right;\n",
              "    }\n",
              "</style>\n",
              "<table border=\"1\" class=\"dataframe\">\n",
              "  <thead>\n",
              "    <tr style=\"text-align: right;\">\n",
              "      <th></th>\n",
              "      <th>id</th>\n",
              "      <th>brand_id</th>\n",
              "      <th>store_id</th>\n",
              "      <th>user_id</th>\n",
              "      <th>data</th>\n",
              "      <th>first_interaction</th>\n",
              "      <th>interacted_at</th>\n",
              "      <th>object_id</th>\n",
              "      <th>object_type</th>\n",
              "      <th>value</th>\n",
              "    </tr>\n",
              "  </thead>\n",
              "  <tbody>\n",
              "    <tr>\n",
              "      <th>34</th>\n",
              "      <td>499471489</td>\n",
              "      <td>2</td>\n",
              "      <td>356</td>\n",
              "      <td>7924455</td>\n",
              "      <td>{\"total_value\":\"R$ 74,60\",\"brand_name\":\"Spolet...</td>\n",
              "      <td>False</td>\n",
              "      <td>2019-06-22 16:50:00</td>\n",
              "      <td>55640032</td>\n",
              "      <td>Purchase</td>\n",
              "      <td>74.6</td>\n",
              "    </tr>\n",
              "    <tr>\n",
              "      <th>62</th>\n",
              "      <td>499435712</td>\n",
              "      <td>2</td>\n",
              "      <td>376</td>\n",
              "      <td>10203832</td>\n",
              "      <td>{\"total_value\":\"R$ 17,00\",\"brand_name\":\"Spolet...</td>\n",
              "      <td>True</td>\n",
              "      <td>2019-06-22 15:32:00</td>\n",
              "      <td>55616874</td>\n",
              "      <td>Purchase</td>\n",
              "      <td>17.0</td>\n",
              "    </tr>\n",
              "    <tr>\n",
              "      <th>63</th>\n",
              "      <td>499438632</td>\n",
              "      <td>2</td>\n",
              "      <td>376</td>\n",
              "      <td>2077202</td>\n",
              "      <td>{\"total_value\":\"R$ 22,90\",\"brand_name\":\"Spolet...</td>\n",
              "      <td>False</td>\n",
              "      <td>2019-06-22 15:37:00</td>\n",
              "      <td>55618189</td>\n",
              "      <td>Purchase</td>\n",
              "      <td>22.9</td>\n",
              "    </tr>\n",
              "    <tr>\n",
              "      <th>66</th>\n",
              "      <td>499441211</td>\n",
              "      <td>2</td>\n",
              "      <td>376</td>\n",
              "      <td>8081096</td>\n",
              "      <td>{\"total_value\":\"R$ 17,00\",\"brand_name\":\"Spolet...</td>\n",
              "      <td>False</td>\n",
              "      <td>2019-06-22 15:46:00</td>\n",
              "      <td>55620529</td>\n",
              "      <td>Purchase</td>\n",
              "      <td>17.0</td>\n",
              "    </tr>\n",
              "    <tr>\n",
              "      <th>75</th>\n",
              "      <td>499458008</td>\n",
              "      <td>2</td>\n",
              "      <td>376</td>\n",
              "      <td>4948091</td>\n",
              "      <td>{\"total_value\":\"R$ 19,90\",\"brand_name\":\"Spolet...</td>\n",
              "      <td>True</td>\n",
              "      <td>2019-06-22 16:25:00</td>\n",
              "      <td>55632282</td>\n",
              "      <td>Purchase</td>\n",
              "      <td>19.9</td>\n",
              "    </tr>\n",
              "    <tr>\n",
              "      <th>...</th>\n",
              "      <td>...</td>\n",
              "      <td>...</td>\n",
              "      <td>...</td>\n",
              "      <td>...</td>\n",
              "      <td>...</td>\n",
              "      <td>...</td>\n",
              "      <td>...</td>\n",
              "      <td>...</td>\n",
              "      <td>...</td>\n",
              "      <td>...</td>\n",
              "    </tr>\n",
              "    <tr>\n",
              "      <th>178899</th>\n",
              "      <td>528610661</td>\n",
              "      <td>2</td>\n",
              "      <td>376</td>\n",
              "      <td>4064881</td>\n",
              "      <td>{\"total_value\":\"R$ 19,40\",\"brand_name\":\"Spolet...</td>\n",
              "      <td>False</td>\n",
              "      <td>2019-09-25 16:01:00</td>\n",
              "      <td>69933318</td>\n",
              "      <td>Purchase</td>\n",
              "      <td>19.4</td>\n",
              "    </tr>\n",
              "    <tr>\n",
              "      <th>178901</th>\n",
              "      <td>528615415</td>\n",
              "      <td>2</td>\n",
              "      <td>376</td>\n",
              "      <td>1685728</td>\n",
              "      <td>{\"total_value\":\"R$ 23,00\",\"brand_name\":\"Spolet...</td>\n",
              "      <td>False</td>\n",
              "      <td>2019-09-25 16:07:00</td>\n",
              "      <td>69935823</td>\n",
              "      <td>Purchase</td>\n",
              "      <td>23.0</td>\n",
              "    </tr>\n",
              "    <tr>\n",
              "      <th>178923</th>\n",
              "      <td>528558348</td>\n",
              "      <td>2</td>\n",
              "      <td>377</td>\n",
              "      <td>11134136</td>\n",
              "      <td>{\"offer_name\":\"Voce ganhou R$5 de desconto na ...</td>\n",
              "      <td>False</td>\n",
              "      <td>2019-09-25 14:42:00</td>\n",
              "      <td>33596</td>\n",
              "      <td>Offer</td>\n",
              "      <td>0.0</td>\n",
              "    </tr>\n",
              "    <tr>\n",
              "      <th>178924</th>\n",
              "      <td>528558767</td>\n",
              "      <td>2</td>\n",
              "      <td>377</td>\n",
              "      <td>11134136</td>\n",
              "      <td>{\"total_value\":\"R$ 24,30\",\"brand_name\":\"Spolet...</td>\n",
              "      <td>False</td>\n",
              "      <td>2019-09-25 14:43:00</td>\n",
              "      <td>69906231</td>\n",
              "      <td>Purchase</td>\n",
              "      <td>24.3</td>\n",
              "    </tr>\n",
              "    <tr>\n",
              "      <th>178932</th>\n",
              "      <td>541516737</td>\n",
              "      <td>2</td>\n",
              "      <td>2375</td>\n",
              "      <td>9586202</td>\n",
              "      <td>{\"total_value\":\"R$ 17,00\",\"brand_name\":\"Spolet...</td>\n",
              "      <td>False</td>\n",
              "      <td>2019-10-25 00:14:00</td>\n",
              "      <td>74294672</td>\n",
              "      <td>Purchase</td>\n",
              "      <td>17.0</td>\n",
              "    </tr>\n",
              "  </tbody>\n",
              "</table>\n",
              "<p>26730 rows × 10 columns</p>\n",
              "</div>"
            ],
            "text/plain": [
              "               id brand_id store_id  ... object_id object_type  value\n",
              "34      499471489        2      356  ...  55640032    Purchase   74.6\n",
              "62      499435712        2      376  ...  55616874    Purchase   17.0\n",
              "63      499438632        2      376  ...  55618189    Purchase   22.9\n",
              "66      499441211        2      376  ...  55620529    Purchase   17.0\n",
              "75      499458008        2      376  ...  55632282    Purchase   19.9\n",
              "...           ...      ...      ...  ...       ...         ...    ...\n",
              "178899  528610661        2      376  ...  69933318    Purchase   19.4\n",
              "178901  528615415        2      376  ...  69935823    Purchase   23.0\n",
              "178923  528558348        2      377  ...     33596       Offer    0.0\n",
              "178924  528558767        2      377  ...  69906231    Purchase   24.3\n",
              "178932  541516737        2     2375  ...  74294672    Purchase   17.0\n",
              "\n",
              "[26730 rows x 10 columns]"
            ]
          },
          "metadata": {
            "tags": []
          },
          "execution_count": 82
        }
      ]
    },
    {
      "cell_type": "code",
      "metadata": {
        "colab": {
          "base_uri": "https://localhost:8080/"
        },
        "id": "dhPxkIhv8Usi",
        "outputId": "bf17c3f7-38ff-4828-813f-10ec37d44a4b"
      },
      "source": [
        "dt_dado[\"user_id\"].value_counts()"
      ],
      "execution_count": null,
      "outputs": [
        {
          "output_type": "execute_result",
          "data": {
            "text/plain": [
              "4903322     58\n",
              "3846196     55\n",
              "1711189     53\n",
              "9542884     51\n",
              "3525314     49\n",
              "            ..\n",
              "9617313      1\n",
              "11808422     1\n",
              "9570151      1\n",
              "11463843     1\n",
              "9493398      1\n",
              "Name: user_id, Length: 54743, dtype: int64"
            ]
          },
          "metadata": {
            "tags": []
          },
          "execution_count": 83
        }
      ]
    },
    {
      "cell_type": "markdown",
      "metadata": {
        "id": "D_xZkdyU7u5c"
      },
      "source": [
        "vendas de clientes que comentam 26730 \r\n",
        "vendas totais 95200\r\n",
        "nao comentam 68470"
      ]
    },
    {
      "cell_type": "code",
      "metadata": {
        "colab": {
          "base_uri": "https://localhost:8080/"
        },
        "id": "RfH-V7o49CT9",
        "outputId": "41f0a574-2b7a-4721-9985-b71e82c7fa3c"
      },
      "source": [
        "68470/46653  # Nao fazem review"
      ],
      "execution_count": null,
      "outputs": [
        {
          "output_type": "execute_result",
          "data": {
            "text/plain": [
              "1.4676440957709043"
            ]
          },
          "metadata": {
            "tags": []
          },
          "execution_count": 84
        }
      ]
    },
    {
      "cell_type": "code",
      "metadata": {
        "id": "pS9tUZH29Lyw",
        "colab": {
          "base_uri": "https://localhost:8080/"
        },
        "outputId": "b62ba587-06a8-4ed9-8a24-f3a4e2dc3e8e"
      },
      "source": [
        "26730/8086"
      ],
      "execution_count": null,
      "outputs": [
        {
          "output_type": "execute_result",
          "data": {
            "text/plain": [
              "3.305713579025476"
            ]
          },
          "metadata": {
            "tags": []
          },
          "execution_count": 85
        }
      ]
    },
    {
      "cell_type": "code",
      "metadata": {
        "colab": {
          "base_uri": "https://localhost:8080/"
        },
        "id": "-GAfy8JTzhh6",
        "outputId": "1dc80b11-6bba-42fe-fbec-de41186208ab"
      },
      "source": [
        "vendas[vendas[\"object_type\"]!=\"Review\"][\"user_id\"].isin(reviews).value_counts()"
      ],
      "execution_count": null,
      "outputs": [
        {
          "output_type": "execute_result",
          "data": {
            "text/plain": [
              "False    68470\n",
              "True     26730\n",
              "Name: user_id, dtype: int64"
            ]
          },
          "metadata": {
            "tags": []
          },
          "execution_count": 86
        }
      ]
    },
    {
      "cell_type": "code",
      "metadata": {
        "id": "d56KSFBSyw1q"
      },
      "source": [
        "# reviews.value_counts()"
      ],
      "execution_count": null,
      "outputs": []
    },
    {
      "cell_type": "code",
      "metadata": {
        "id": "7-vbrFrS1hfm"
      },
      "source": [
        ""
      ],
      "execution_count": null,
      "outputs": []
    },
    {
      "cell_type": "code",
      "metadata": {
        "colab": {
          "base_uri": "https://localhost:8080/",
          "height": 780
        },
        "id": "ovGZNE1B_9nz",
        "outputId": "e229cd10-ed82-462b-e4e4-8661ecb00b97"
      },
      "source": [
        "cliente1 = dt_sem_reviews.loc[dt_sem_reviews.user_id == \"4903322\"].sort_values('interacted_at') \r\n",
        "\r\n",
        "cliente1.loc[(cliente1[\"object_type\"]==\"Reward\")].sort_values('interacted_at')\r\n"
      ],
      "execution_count": null,
      "outputs": [
        {
          "output_type": "execute_result",
          "data": {
            "text/html": [
              "<div>\n",
              "<style scoped>\n",
              "    .dataframe tbody tr th:only-of-type {\n",
              "        vertical-align: middle;\n",
              "    }\n",
              "\n",
              "    .dataframe tbody tr th {\n",
              "        vertical-align: top;\n",
              "    }\n",
              "\n",
              "    .dataframe thead th {\n",
              "        text-align: right;\n",
              "    }\n",
              "</style>\n",
              "<table border=\"1\" class=\"dataframe\">\n",
              "  <thead>\n",
              "    <tr style=\"text-align: right;\">\n",
              "      <th></th>\n",
              "      <th>id</th>\n",
              "      <th>brand_id</th>\n",
              "      <th>store_id</th>\n",
              "      <th>user_id</th>\n",
              "      <th>data</th>\n",
              "      <th>first_interaction</th>\n",
              "      <th>interacted_at</th>\n",
              "      <th>object_id</th>\n",
              "      <th>object_type</th>\n",
              "      <th>value</th>\n",
              "    </tr>\n",
              "  </thead>\n",
              "  <tbody>\n",
              "    <tr>\n",
              "      <th>66840</th>\n",
              "      <td>423913203</td>\n",
              "      <td>2</td>\n",
              "      <td>4319</td>\n",
              "      <td>4903322</td>\n",
              "      <td>{\"reward_name\":\"Massa Tradizionale\",\"brand_nam...</td>\n",
              "      <td>False</td>\n",
              "      <td>2019-04-04 15:29:00</td>\n",
              "      <td>26</td>\n",
              "      <td>Reward</td>\n",
              "      <td>6.0</td>\n",
              "    </tr>\n",
              "    <tr>\n",
              "      <th>22791</th>\n",
              "      <td>468089599</td>\n",
              "      <td>2</td>\n",
              "      <td>376</td>\n",
              "      <td>4903322</td>\n",
              "      <td>{\"reward_name\":\"Massa Tradizionale\",\"brand_nam...</td>\n",
              "      <td>True</td>\n",
              "      <td>2019-04-05 15:37:00</td>\n",
              "      <td>26</td>\n",
              "      <td>Reward</td>\n",
              "      <td>6.0</td>\n",
              "    </tr>\n",
              "    <tr>\n",
              "      <th>22794</th>\n",
              "      <td>468237384</td>\n",
              "      <td>2</td>\n",
              "      <td>376</td>\n",
              "      <td>4903322</td>\n",
              "      <td>{\"reward_name\":\"Massa Tradizionale\",\"brand_nam...</td>\n",
              "      <td>False</td>\n",
              "      <td>2019-04-05 16:41:00</td>\n",
              "      <td>26</td>\n",
              "      <td>Reward</td>\n",
              "      <td>6.0</td>\n",
              "    </tr>\n",
              "    <tr>\n",
              "      <th>154672</th>\n",
              "      <td>533200499</td>\n",
              "      <td>2</td>\n",
              "      <td>4319</td>\n",
              "      <td>4903322</td>\n",
              "      <td>{\"reward_name\":\"Massa Tradizionale\",\"brand_nam...</td>\n",
              "      <td>False</td>\n",
              "      <td>2019-04-10 14:28:00</td>\n",
              "      <td>26</td>\n",
              "      <td>Reward</td>\n",
              "      <td>6.0</td>\n",
              "    </tr>\n",
              "    <tr>\n",
              "      <th>50904</th>\n",
              "      <td>447322457</td>\n",
              "      <td>2</td>\n",
              "      <td>4319</td>\n",
              "      <td>4903322</td>\n",
              "      <td>{\"reward_name\":\"Massa Tradizionale\",\"brand_nam...</td>\n",
              "      <td>False</td>\n",
              "      <td>2019-04-20 15:44:00</td>\n",
              "      <td>26</td>\n",
              "      <td>Reward</td>\n",
              "      <td>6.0</td>\n",
              "    </tr>\n",
              "    <tr>\n",
              "      <th>105460</th>\n",
              "      <td>513167358</td>\n",
              "      <td>2</td>\n",
              "      <td>4319</td>\n",
              "      <td>4903322</td>\n",
              "      <td>{\"reward_name\":\"Massa Tradizionale\",\"brand_nam...</td>\n",
              "      <td>False</td>\n",
              "      <td>2019-06-08 16:01:00</td>\n",
              "      <td>26</td>\n",
              "      <td>Reward</td>\n",
              "      <td>6.0</td>\n",
              "    </tr>\n",
              "    <tr>\n",
              "      <th>8186</th>\n",
              "      <td>500000482</td>\n",
              "      <td>2</td>\n",
              "      <td>4319</td>\n",
              "      <td>4903322</td>\n",
              "      <td>{\"reward_name\":\"Massa Tradizionale\",\"brand_nam...</td>\n",
              "      <td>False</td>\n",
              "      <td>2019-06-24 15:16:00</td>\n",
              "      <td>26</td>\n",
              "      <td>Reward</td>\n",
              "      <td>6.0</td>\n",
              "    </tr>\n",
              "    <tr>\n",
              "      <th>11235</th>\n",
              "      <td>502690120</td>\n",
              "      <td>2</td>\n",
              "      <td>4319</td>\n",
              "      <td>4903322</td>\n",
              "      <td>{\"reward_name\":\"Massa Tradizionale\",\"brand_nam...</td>\n",
              "      <td>False</td>\n",
              "      <td>2019-06-29 16:20:00</td>\n",
              "      <td>26</td>\n",
              "      <td>Reward</td>\n",
              "      <td>6.0</td>\n",
              "    </tr>\n",
              "    <tr>\n",
              "      <th>38501</th>\n",
              "      <td>495621938</td>\n",
              "      <td>2</td>\n",
              "      <td>4319</td>\n",
              "      <td>4903322</td>\n",
              "      <td>{\"reward_name\":\"Massa Tradizionale\",\"brand_nam...</td>\n",
              "      <td>False</td>\n",
              "      <td>2019-08-06 15:05:00</td>\n",
              "      <td>26</td>\n",
              "      <td>Reward</td>\n",
              "      <td>6.0</td>\n",
              "    </tr>\n",
              "    <tr>\n",
              "      <th>111836</th>\n",
              "      <td>515373176</td>\n",
              "      <td>2</td>\n",
              "      <td>4319</td>\n",
              "      <td>4903322</td>\n",
              "      <td>{\"reward_name\":\"Massa Tradizionale\",\"brand_nam...</td>\n",
              "      <td>False</td>\n",
              "      <td>2019-08-14 14:49:00</td>\n",
              "      <td>26</td>\n",
              "      <td>Reward</td>\n",
              "      <td>6.0</td>\n",
              "    </tr>\n",
              "    <tr>\n",
              "      <th>118880</th>\n",
              "      <td>517883326</td>\n",
              "      <td>2</td>\n",
              "      <td>4319</td>\n",
              "      <td>4903322</td>\n",
              "      <td>{\"reward_name\":\"Massa Tradizionale\",\"brand_nam...</td>\n",
              "      <td>False</td>\n",
              "      <td>2019-08-23 16:01:00</td>\n",
              "      <td>26</td>\n",
              "      <td>Reward</td>\n",
              "      <td>6.0</td>\n",
              "    </tr>\n",
              "    <tr>\n",
              "      <th>124028</th>\n",
              "      <td>520436462</td>\n",
              "      <td>2</td>\n",
              "      <td>376</td>\n",
              "      <td>4903322</td>\n",
              "      <td>{\"reward_name\":\"Massa Tradizionale\",\"brand_nam...</td>\n",
              "      <td>False</td>\n",
              "      <td>2019-08-31 16:56:00</td>\n",
              "      <td>26</td>\n",
              "      <td>Reward</td>\n",
              "      <td>6.0</td>\n",
              "    </tr>\n",
              "    <tr>\n",
              "      <th>142430</th>\n",
              "      <td>526545606</td>\n",
              "      <td>2</td>\n",
              "      <td>4319</td>\n",
              "      <td>4903322</td>\n",
              "      <td>{\"reward_name\":\"Massa Tradizionale\",\"brand_nam...</td>\n",
              "      <td>False</td>\n",
              "      <td>2019-09-20 15:47:00</td>\n",
              "      <td>26</td>\n",
              "      <td>Reward</td>\n",
              "      <td>6.0</td>\n",
              "    </tr>\n",
              "    <tr>\n",
              "      <th>176720</th>\n",
              "      <td>542972517</td>\n",
              "      <td>2</td>\n",
              "      <td>4319</td>\n",
              "      <td>4903322</td>\n",
              "      <td>{\"reward_name\":\"Massa Tradizionale\",\"brand_nam...</td>\n",
              "      <td>False</td>\n",
              "      <td>2019-10-29 15:46:00</td>\n",
              "      <td>26</td>\n",
              "      <td>Reward</td>\n",
              "      <td>6.0</td>\n",
              "    </tr>\n",
              "    <tr>\n",
              "      <th>134574</th>\n",
              "      <td>523677554</td>\n",
              "      <td>2</td>\n",
              "      <td>4319</td>\n",
              "      <td>4903322</td>\n",
              "      <td>{\"reward_name\":\"Massa Tradizionale\",\"brand_nam...</td>\n",
              "      <td>False</td>\n",
              "      <td>2019-11-09 14:30:00</td>\n",
              "      <td>26</td>\n",
              "      <td>Reward</td>\n",
              "      <td>6.0</td>\n",
              "    </tr>\n",
              "  </tbody>\n",
              "</table>\n",
              "</div>"
            ],
            "text/plain": [
              "               id brand_id store_id  ... object_id object_type  value\n",
              "66840   423913203        2     4319  ...        26      Reward    6.0\n",
              "22791   468089599        2      376  ...        26      Reward    6.0\n",
              "22794   468237384        2      376  ...        26      Reward    6.0\n",
              "154672  533200499        2     4319  ...        26      Reward    6.0\n",
              "50904   447322457        2     4319  ...        26      Reward    6.0\n",
              "105460  513167358        2     4319  ...        26      Reward    6.0\n",
              "8186    500000482        2     4319  ...        26      Reward    6.0\n",
              "11235   502690120        2     4319  ...        26      Reward    6.0\n",
              "38501   495621938        2     4319  ...        26      Reward    6.0\n",
              "111836  515373176        2     4319  ...        26      Reward    6.0\n",
              "118880  517883326        2     4319  ...        26      Reward    6.0\n",
              "124028  520436462        2      376  ...        26      Reward    6.0\n",
              "142430  526545606        2     4319  ...        26      Reward    6.0\n",
              "176720  542972517        2     4319  ...        26      Reward    6.0\n",
              "134574  523677554        2     4319  ...        26      Reward    6.0\n",
              "\n",
              "[15 rows x 10 columns]"
            ]
          },
          "metadata": {
            "tags": []
          },
          "execution_count": 88
        }
      ]
    },
    {
      "cell_type": "code",
      "metadata": {
        "id": "iqMqGWSsZ9oN"
      },
      "source": [
        "cl_obj = \"cliente1\"\r\n",
        "qtd = [1,5,10,15]\r\n",
        "lalal = [1,2,3,4,5,6,7,8]\r\n",
        "cl_data = cliente1[\"interacted_at\"].unique()"
      ],
      "execution_count": null,
      "outputs": []
    },
    {
      "cell_type": "code",
      "metadata": {
        "colab": {
          "base_uri": "https://localhost:8080/"
        },
        "id": "T_dym9p6obBx",
        "outputId": "b99bb21b-5e37-4b42-aef1-53ee911cdcbd"
      },
      "source": [
        "dt2 = dado.loc[(dado['object_type'] == \"Review\")]\r\n",
        "dado = vendas.drop(remove_reviews.index)\r\n",
        "\r\n",
        "dado[\"object_type\"].value_counts()\r\n"
      ],
      "execution_count": null,
      "outputs": [
        {
          "output_type": "execute_result",
          "data": {
            "text/plain": [
              "Purchase    86183\n",
              "Offer        4847\n",
              "Reward       4170\n",
              "Name: object_type, dtype: int64"
            ]
          },
          "metadata": {
            "tags": []
          },
          "execution_count": 90
        }
      ]
    },
    {
      "cell_type": "code",
      "metadata": {
        "id": "VFzVb0Vz_-WD",
        "colab": {
          "base_uri": "https://localhost:8080/"
        },
        "outputId": "3ed659eb-ec6f-447d-b339-172a3a928a96"
      },
      "source": [
        "valores_c1 = cliente1[\"interacted_at\"].value_counts().sort_index()\r\n",
        "\r\n",
        "valores_c1\r\n",
        "\r\n"
      ],
      "execution_count": null,
      "outputs": [
        {
          "output_type": "execute_result",
          "data": {
            "text/plain": [
              "2019-01-06 15:20:00    1\n",
              "2019-03-05 16:51:00    1\n",
              "2019-03-10 20:10:00    1\n",
              "2019-04-04 15:24:00    1\n",
              "2019-04-04 15:29:00    1\n",
              "2019-04-05 15:37:00    1\n",
              "2019-04-05 16:32:00    1\n",
              "2019-04-05 16:41:00    1\n",
              "2019-04-07 17:53:00    1\n",
              "2019-04-10 14:28:00    1\n",
              "2019-04-20 15:39:00    1\n",
              "2019-04-20 15:44:00    1\n",
              "2019-04-23 15:54:00    2\n",
              "2019-04-24 15:10:00    1\n",
              "2019-04-26 16:40:00    1\n",
              "2019-04-26 16:43:00    1\n",
              "2019-04-30 16:11:00    1\n",
              "2019-05-04 17:03:00    1\n",
              "2019-05-28 15:46:00    1\n",
              "2019-05-31 17:15:00    1\n",
              "2019-06-06 15:13:00    1\n",
              "2019-06-08 16:01:00    1\n",
              "2019-06-09 17:06:00    1\n",
              "2019-06-15 15:23:00    1\n",
              "2019-06-24 15:16:00    1\n",
              "2019-06-24 15:17:00    1\n",
              "2019-06-28 15:40:00    1\n",
              "2019-06-28 15:42:00    1\n",
              "2019-06-29 16:20:00    1\n",
              "2019-08-06 15:05:00    1\n",
              "2019-08-06 15:46:00    1\n",
              "2019-08-14 14:49:00    1\n",
              "2019-08-16 16:32:00    1\n",
              "2019-08-17 15:06:00    1\n",
              "2019-08-21 15:16:00    1\n",
              "2019-08-23 16:01:00    1\n",
              "2019-08-23 16:02:00    1\n",
              "2019-08-30 16:54:00    2\n",
              "2019-08-31 16:56:00    2\n",
              "2019-09-13 14:54:00    1\n",
              "2019-09-20 15:45:00    1\n",
              "2019-09-20 15:47:00    1\n",
              "2019-09-26 15:11:00    2\n",
              "2019-09-27 16:45:00    1\n",
              "2019-10-08 14:40:00    1\n",
              "2019-10-22 15:36:00    1\n",
              "2019-10-22 15:39:00    1\n",
              "2019-10-29 15:46:00    1\n",
              "2019-10-31 16:26:00    1\n",
              "2019-11-07 14:43:00    1\n",
              "2019-11-09 14:27:00    1\n",
              "2019-11-09 14:30:00    1\n",
              "2019-11-10 15:15:00    1\n",
              "2019-12-04 16:39:00    1\n",
              "Name: interacted_at, dtype: int64"
            ]
          },
          "metadata": {
            "tags": []
          },
          "execution_count": 91
        }
      ]
    },
    {
      "cell_type": "code",
      "metadata": {
        "id": "kdbOrbX0abJP"
      },
      "source": [
        "#salvar em formato csv a tabela\r\n",
        "\r\n",
        "valores_c1.to_csv('cliente1.csv')"
      ],
      "execution_count": null,
      "outputs": []
    },
    {
      "cell_type": "code",
      "metadata": {
        "colab": {
          "base_uri": "https://localhost:8080/",
          "height": 780
        },
        "id": "rirZO7-ULxHX",
        "outputId": "3977a6f8-66dd-48e2-dde9-6c654348869b"
      },
      "source": [
        "cliente1[(cliente1[\"object_type\"]==\"Reward\")].sort_values(\"interacted_at\")"
      ],
      "execution_count": null,
      "outputs": [
        {
          "output_type": "execute_result",
          "data": {
            "text/html": [
              "<div>\n",
              "<style scoped>\n",
              "    .dataframe tbody tr th:only-of-type {\n",
              "        vertical-align: middle;\n",
              "    }\n",
              "\n",
              "    .dataframe tbody tr th {\n",
              "        vertical-align: top;\n",
              "    }\n",
              "\n",
              "    .dataframe thead th {\n",
              "        text-align: right;\n",
              "    }\n",
              "</style>\n",
              "<table border=\"1\" class=\"dataframe\">\n",
              "  <thead>\n",
              "    <tr style=\"text-align: right;\">\n",
              "      <th></th>\n",
              "      <th>id</th>\n",
              "      <th>brand_id</th>\n",
              "      <th>store_id</th>\n",
              "      <th>user_id</th>\n",
              "      <th>data</th>\n",
              "      <th>first_interaction</th>\n",
              "      <th>interacted_at</th>\n",
              "      <th>object_id</th>\n",
              "      <th>object_type</th>\n",
              "      <th>value</th>\n",
              "    </tr>\n",
              "  </thead>\n",
              "  <tbody>\n",
              "    <tr>\n",
              "      <th>66840</th>\n",
              "      <td>423913203</td>\n",
              "      <td>2</td>\n",
              "      <td>4319</td>\n",
              "      <td>4903322</td>\n",
              "      <td>{\"reward_name\":\"Massa Tradizionale\",\"brand_nam...</td>\n",
              "      <td>False</td>\n",
              "      <td>2019-04-04 15:29:00</td>\n",
              "      <td>26</td>\n",
              "      <td>Reward</td>\n",
              "      <td>6.0</td>\n",
              "    </tr>\n",
              "    <tr>\n",
              "      <th>22791</th>\n",
              "      <td>468089599</td>\n",
              "      <td>2</td>\n",
              "      <td>376</td>\n",
              "      <td>4903322</td>\n",
              "      <td>{\"reward_name\":\"Massa Tradizionale\",\"brand_nam...</td>\n",
              "      <td>True</td>\n",
              "      <td>2019-04-05 15:37:00</td>\n",
              "      <td>26</td>\n",
              "      <td>Reward</td>\n",
              "      <td>6.0</td>\n",
              "    </tr>\n",
              "    <tr>\n",
              "      <th>22794</th>\n",
              "      <td>468237384</td>\n",
              "      <td>2</td>\n",
              "      <td>376</td>\n",
              "      <td>4903322</td>\n",
              "      <td>{\"reward_name\":\"Massa Tradizionale\",\"brand_nam...</td>\n",
              "      <td>False</td>\n",
              "      <td>2019-04-05 16:41:00</td>\n",
              "      <td>26</td>\n",
              "      <td>Reward</td>\n",
              "      <td>6.0</td>\n",
              "    </tr>\n",
              "    <tr>\n",
              "      <th>154672</th>\n",
              "      <td>533200499</td>\n",
              "      <td>2</td>\n",
              "      <td>4319</td>\n",
              "      <td>4903322</td>\n",
              "      <td>{\"reward_name\":\"Massa Tradizionale\",\"brand_nam...</td>\n",
              "      <td>False</td>\n",
              "      <td>2019-04-10 14:28:00</td>\n",
              "      <td>26</td>\n",
              "      <td>Reward</td>\n",
              "      <td>6.0</td>\n",
              "    </tr>\n",
              "    <tr>\n",
              "      <th>50904</th>\n",
              "      <td>447322457</td>\n",
              "      <td>2</td>\n",
              "      <td>4319</td>\n",
              "      <td>4903322</td>\n",
              "      <td>{\"reward_name\":\"Massa Tradizionale\",\"brand_nam...</td>\n",
              "      <td>False</td>\n",
              "      <td>2019-04-20 15:44:00</td>\n",
              "      <td>26</td>\n",
              "      <td>Reward</td>\n",
              "      <td>6.0</td>\n",
              "    </tr>\n",
              "    <tr>\n",
              "      <th>105460</th>\n",
              "      <td>513167358</td>\n",
              "      <td>2</td>\n",
              "      <td>4319</td>\n",
              "      <td>4903322</td>\n",
              "      <td>{\"reward_name\":\"Massa Tradizionale\",\"brand_nam...</td>\n",
              "      <td>False</td>\n",
              "      <td>2019-06-08 16:01:00</td>\n",
              "      <td>26</td>\n",
              "      <td>Reward</td>\n",
              "      <td>6.0</td>\n",
              "    </tr>\n",
              "    <tr>\n",
              "      <th>8186</th>\n",
              "      <td>500000482</td>\n",
              "      <td>2</td>\n",
              "      <td>4319</td>\n",
              "      <td>4903322</td>\n",
              "      <td>{\"reward_name\":\"Massa Tradizionale\",\"brand_nam...</td>\n",
              "      <td>False</td>\n",
              "      <td>2019-06-24 15:16:00</td>\n",
              "      <td>26</td>\n",
              "      <td>Reward</td>\n",
              "      <td>6.0</td>\n",
              "    </tr>\n",
              "    <tr>\n",
              "      <th>11235</th>\n",
              "      <td>502690120</td>\n",
              "      <td>2</td>\n",
              "      <td>4319</td>\n",
              "      <td>4903322</td>\n",
              "      <td>{\"reward_name\":\"Massa Tradizionale\",\"brand_nam...</td>\n",
              "      <td>False</td>\n",
              "      <td>2019-06-29 16:20:00</td>\n",
              "      <td>26</td>\n",
              "      <td>Reward</td>\n",
              "      <td>6.0</td>\n",
              "    </tr>\n",
              "    <tr>\n",
              "      <th>38501</th>\n",
              "      <td>495621938</td>\n",
              "      <td>2</td>\n",
              "      <td>4319</td>\n",
              "      <td>4903322</td>\n",
              "      <td>{\"reward_name\":\"Massa Tradizionale\",\"brand_nam...</td>\n",
              "      <td>False</td>\n",
              "      <td>2019-08-06 15:05:00</td>\n",
              "      <td>26</td>\n",
              "      <td>Reward</td>\n",
              "      <td>6.0</td>\n",
              "    </tr>\n",
              "    <tr>\n",
              "      <th>111836</th>\n",
              "      <td>515373176</td>\n",
              "      <td>2</td>\n",
              "      <td>4319</td>\n",
              "      <td>4903322</td>\n",
              "      <td>{\"reward_name\":\"Massa Tradizionale\",\"brand_nam...</td>\n",
              "      <td>False</td>\n",
              "      <td>2019-08-14 14:49:00</td>\n",
              "      <td>26</td>\n",
              "      <td>Reward</td>\n",
              "      <td>6.0</td>\n",
              "    </tr>\n",
              "    <tr>\n",
              "      <th>118880</th>\n",
              "      <td>517883326</td>\n",
              "      <td>2</td>\n",
              "      <td>4319</td>\n",
              "      <td>4903322</td>\n",
              "      <td>{\"reward_name\":\"Massa Tradizionale\",\"brand_nam...</td>\n",
              "      <td>False</td>\n",
              "      <td>2019-08-23 16:01:00</td>\n",
              "      <td>26</td>\n",
              "      <td>Reward</td>\n",
              "      <td>6.0</td>\n",
              "    </tr>\n",
              "    <tr>\n",
              "      <th>124028</th>\n",
              "      <td>520436462</td>\n",
              "      <td>2</td>\n",
              "      <td>376</td>\n",
              "      <td>4903322</td>\n",
              "      <td>{\"reward_name\":\"Massa Tradizionale\",\"brand_nam...</td>\n",
              "      <td>False</td>\n",
              "      <td>2019-08-31 16:56:00</td>\n",
              "      <td>26</td>\n",
              "      <td>Reward</td>\n",
              "      <td>6.0</td>\n",
              "    </tr>\n",
              "    <tr>\n",
              "      <th>142430</th>\n",
              "      <td>526545606</td>\n",
              "      <td>2</td>\n",
              "      <td>4319</td>\n",
              "      <td>4903322</td>\n",
              "      <td>{\"reward_name\":\"Massa Tradizionale\",\"brand_nam...</td>\n",
              "      <td>False</td>\n",
              "      <td>2019-09-20 15:47:00</td>\n",
              "      <td>26</td>\n",
              "      <td>Reward</td>\n",
              "      <td>6.0</td>\n",
              "    </tr>\n",
              "    <tr>\n",
              "      <th>176720</th>\n",
              "      <td>542972517</td>\n",
              "      <td>2</td>\n",
              "      <td>4319</td>\n",
              "      <td>4903322</td>\n",
              "      <td>{\"reward_name\":\"Massa Tradizionale\",\"brand_nam...</td>\n",
              "      <td>False</td>\n",
              "      <td>2019-10-29 15:46:00</td>\n",
              "      <td>26</td>\n",
              "      <td>Reward</td>\n",
              "      <td>6.0</td>\n",
              "    </tr>\n",
              "    <tr>\n",
              "      <th>134574</th>\n",
              "      <td>523677554</td>\n",
              "      <td>2</td>\n",
              "      <td>4319</td>\n",
              "      <td>4903322</td>\n",
              "      <td>{\"reward_name\":\"Massa Tradizionale\",\"brand_nam...</td>\n",
              "      <td>False</td>\n",
              "      <td>2019-11-09 14:30:00</td>\n",
              "      <td>26</td>\n",
              "      <td>Reward</td>\n",
              "      <td>6.0</td>\n",
              "    </tr>\n",
              "  </tbody>\n",
              "</table>\n",
              "</div>"
            ],
            "text/plain": [
              "               id brand_id store_id  ... object_id object_type  value\n",
              "66840   423913203        2     4319  ...        26      Reward    6.0\n",
              "22791   468089599        2      376  ...        26      Reward    6.0\n",
              "22794   468237384        2      376  ...        26      Reward    6.0\n",
              "154672  533200499        2     4319  ...        26      Reward    6.0\n",
              "50904   447322457        2     4319  ...        26      Reward    6.0\n",
              "105460  513167358        2     4319  ...        26      Reward    6.0\n",
              "8186    500000482        2     4319  ...        26      Reward    6.0\n",
              "11235   502690120        2     4319  ...        26      Reward    6.0\n",
              "38501   495621938        2     4319  ...        26      Reward    6.0\n",
              "111836  515373176        2     4319  ...        26      Reward    6.0\n",
              "118880  517883326        2     4319  ...        26      Reward    6.0\n",
              "124028  520436462        2      376  ...        26      Reward    6.0\n",
              "142430  526545606        2     4319  ...        26      Reward    6.0\n",
              "176720  542972517        2     4319  ...        26      Reward    6.0\n",
              "134574  523677554        2     4319  ...        26      Reward    6.0\n",
              "\n",
              "[15 rows x 10 columns]"
            ]
          },
          "metadata": {
            "tags": []
          },
          "execution_count": 93
        }
      ]
    },
    {
      "cell_type": "code",
      "metadata": {
        "id": "MdJQbVZxd1UZ"
      },
      "source": [
        "#verificar clientes com mais interações na lojas\r\n",
        "\r\n"
      ],
      "execution_count": null,
      "outputs": []
    },
    {
      "cell_type": "code",
      "metadata": {
        "id": "VVK9goy9CqGS"
      },
      "source": [
        ""
      ],
      "execution_count": null,
      "outputs": []
    },
    {
      "cell_type": "markdown",
      "metadata": {
        "id": "5YOkhrR8cd4Y"
      },
      "source": [
        "Cliente 2"
      ]
    },
    {
      "cell_type": "code",
      "metadata": {
        "id": "O4Hg_Anica7l"
      },
      "source": [
        "cliente2 = dt_sem_reviews.loc[dt_sem_reviews.user_id == \"1711189\"].sort_values('interacted_at') "
      ],
      "execution_count": null,
      "outputs": []
    },
    {
      "cell_type": "code",
      "metadata": {
        "id": "WXnE3p5KdFLj"
      },
      "source": [
        "valores_c2 = cliente2[\"interacted_at\"].sort_values().to_csv('clitente2.csv')\r\n",
        "\r\n",
        "valores_c2\r\n"
      ],
      "execution_count": null,
      "outputs": []
    },
    {
      "cell_type": "code",
      "metadata": {
        "colab": {
          "base_uri": "https://localhost:8080/",
          "height": 829
        },
        "id": "__96zLL-dP4e",
        "outputId": "19aa17e9-d4d2-4cdc-f4cb-d982fd0a92ad"
      },
      "source": [
        "cliente2[(cliente2[\"object_type\"]==\"Reward\")].sort_values(\"interacted_at\")"
      ],
      "execution_count": null,
      "outputs": [
        {
          "output_type": "execute_result",
          "data": {
            "text/html": [
              "<div>\n",
              "<style scoped>\n",
              "    .dataframe tbody tr th:only-of-type {\n",
              "        vertical-align: middle;\n",
              "    }\n",
              "\n",
              "    .dataframe tbody tr th {\n",
              "        vertical-align: top;\n",
              "    }\n",
              "\n",
              "    .dataframe thead th {\n",
              "        text-align: right;\n",
              "    }\n",
              "</style>\n",
              "<table border=\"1\" class=\"dataframe\">\n",
              "  <thead>\n",
              "    <tr style=\"text-align: right;\">\n",
              "      <th></th>\n",
              "      <th>id</th>\n",
              "      <th>brand_id</th>\n",
              "      <th>store_id</th>\n",
              "      <th>user_id</th>\n",
              "      <th>data</th>\n",
              "      <th>first_interaction</th>\n",
              "      <th>interacted_at</th>\n",
              "      <th>object_id</th>\n",
              "      <th>object_type</th>\n",
              "      <th>value</th>\n",
              "    </tr>\n",
              "  </thead>\n",
              "  <tbody>\n",
              "    <tr>\n",
              "      <th>152202</th>\n",
              "      <td>532009503</td>\n",
              "      <td>2</td>\n",
              "      <td>4828</td>\n",
              "      <td>1711189</td>\n",
              "      <td>{\"reward_name\":\"Massa Tradizionale\",\"brand_nam...</td>\n",
              "      <td>False</td>\n",
              "      <td>2019-01-10 22:54:00</td>\n",
              "      <td>26</td>\n",
              "      <td>Reward</td>\n",
              "      <td>6.0</td>\n",
              "    </tr>\n",
              "    <tr>\n",
              "      <th>123896</th>\n",
              "      <td>520926544</td>\n",
              "      <td>2</td>\n",
              "      <td>4828</td>\n",
              "      <td>1711189</td>\n",
              "      <td>{\"reward_name\":\"Massa Tradizionale\",\"brand_nam...</td>\n",
              "      <td>False</td>\n",
              "      <td>2019-02-09 00:00:00</td>\n",
              "      <td>26</td>\n",
              "      <td>Reward</td>\n",
              "      <td>6.0</td>\n",
              "    </tr>\n",
              "    <tr>\n",
              "      <th>104034</th>\n",
              "      <td>512716674</td>\n",
              "      <td>2</td>\n",
              "      <td>4828</td>\n",
              "      <td>1711189</td>\n",
              "      <td>{\"reward_name\":\"Massa Tradizionale\",\"brand_nam...</td>\n",
              "      <td>False</td>\n",
              "      <td>2019-04-08 18:30:00</td>\n",
              "      <td>26</td>\n",
              "      <td>Reward</td>\n",
              "      <td>6.0</td>\n",
              "    </tr>\n",
              "    <tr>\n",
              "      <th>104035</th>\n",
              "      <td>512717156</td>\n",
              "      <td>2</td>\n",
              "      <td>4828</td>\n",
              "      <td>1711189</td>\n",
              "      <td>{\"reward_name\":\"Massa Tradizionale\",\"brand_nam...</td>\n",
              "      <td>False</td>\n",
              "      <td>2019-04-08 18:32:00</td>\n",
              "      <td>26</td>\n",
              "      <td>Reward</td>\n",
              "      <td>6.0</td>\n",
              "    </tr>\n",
              "    <tr>\n",
              "      <th>24506</th>\n",
              "      <td>484516390</td>\n",
              "      <td>2</td>\n",
              "      <td>4828</td>\n",
              "      <td>1711189</td>\n",
              "      <td>{\"reward_name\":\"Massa Tradizionale\",\"brand_nam...</td>\n",
              "      <td>False</td>\n",
              "      <td>2019-05-14 16:45:00</td>\n",
              "      <td>26</td>\n",
              "      <td>Reward</td>\n",
              "      <td>6.0</td>\n",
              "    </tr>\n",
              "    <tr>\n",
              "      <th>105740</th>\n",
              "      <td>513166971</td>\n",
              "      <td>2</td>\n",
              "      <td>4828</td>\n",
              "      <td>1711189</td>\n",
              "      <td>{\"reward_name\":\"Massa Tradizionale\",\"brand_nam...</td>\n",
              "      <td>False</td>\n",
              "      <td>2019-06-08 16:01:00</td>\n",
              "      <td>26</td>\n",
              "      <td>Reward</td>\n",
              "      <td>6.0</td>\n",
              "    </tr>\n",
              "    <tr>\n",
              "      <th>7928</th>\n",
              "      <td>497712182</td>\n",
              "      <td>2</td>\n",
              "      <td>4828</td>\n",
              "      <td>1711189</td>\n",
              "      <td>{\"reward_name\":\"Massa Tradizionale\",\"brand_nam...</td>\n",
              "      <td>False</td>\n",
              "      <td>2019-06-15 18:44:00</td>\n",
              "      <td>26</td>\n",
              "      <td>Reward</td>\n",
              "      <td>6.0</td>\n",
              "    </tr>\n",
              "    <tr>\n",
              "      <th>8345</th>\n",
              "      <td>500162258</td>\n",
              "      <td>2</td>\n",
              "      <td>4828</td>\n",
              "      <td>1711189</td>\n",
              "      <td>{\"reward_name\":\"Massa Tradizionale\",\"brand_nam...</td>\n",
              "      <td>False</td>\n",
              "      <td>2019-06-24 16:57:00</td>\n",
              "      <td>26</td>\n",
              "      <td>Reward</td>\n",
              "      <td>6.0</td>\n",
              "    </tr>\n",
              "    <tr>\n",
              "      <th>131729</th>\n",
              "      <td>522533362</td>\n",
              "      <td>2</td>\n",
              "      <td>4828</td>\n",
              "      <td>1711189</td>\n",
              "      <td>{\"reward_name\":\"Massa Tradizionale\",\"brand_nam...</td>\n",
              "      <td>False</td>\n",
              "      <td>2019-07-09 14:47:00</td>\n",
              "      <td>26</td>\n",
              "      <td>Reward</td>\n",
              "      <td>6.0</td>\n",
              "    </tr>\n",
              "    <tr>\n",
              "      <th>86907</th>\n",
              "      <td>507141439</td>\n",
              "      <td>2</td>\n",
              "      <td>4828</td>\n",
              "      <td>1711189</td>\n",
              "      <td>{\"reward_name\":\"Massa Tradizionale\",\"brand_nam...</td>\n",
              "      <td>False</td>\n",
              "      <td>2019-07-16 14:32:00</td>\n",
              "      <td>26</td>\n",
              "      <td>Reward</td>\n",
              "      <td>6.0</td>\n",
              "    </tr>\n",
              "    <tr>\n",
              "      <th>97742</th>\n",
              "      <td>510794339</td>\n",
              "      <td>2</td>\n",
              "      <td>4828</td>\n",
              "      <td>1711189</td>\n",
              "      <td>{\"reward_name\":\"Massa Tradizionale\",\"brand_nam...</td>\n",
              "      <td>False</td>\n",
              "      <td>2019-07-28 23:03:00</td>\n",
              "      <td>26</td>\n",
              "      <td>Reward</td>\n",
              "      <td>6.0</td>\n",
              "    </tr>\n",
              "    <tr>\n",
              "      <th>113824</th>\n",
              "      <td>516126280</td>\n",
              "      <td>2</td>\n",
              "      <td>4828</td>\n",
              "      <td>1711189</td>\n",
              "      <td>{\"reward_name\":\"Massa Tradizionale\",\"brand_nam...</td>\n",
              "      <td>False</td>\n",
              "      <td>2019-08-16 23:41:00</td>\n",
              "      <td>26</td>\n",
              "      <td>Reward</td>\n",
              "      <td>6.0</td>\n",
              "    </tr>\n",
              "    <tr>\n",
              "      <th>127316</th>\n",
              "      <td>519797629</td>\n",
              "      <td>2</td>\n",
              "      <td>4828</td>\n",
              "      <td>1711189</td>\n",
              "      <td>{\"reward_name\":\"Massa Tradizionale\",\"brand_nam...</td>\n",
              "      <td>False</td>\n",
              "      <td>2019-08-29 16:40:00</td>\n",
              "      <td>26</td>\n",
              "      <td>Reward</td>\n",
              "      <td>6.0</td>\n",
              "    </tr>\n",
              "    <tr>\n",
              "      <th>146570</th>\n",
              "      <td>528071121</td>\n",
              "      <td>2</td>\n",
              "      <td>4828</td>\n",
              "      <td>1711189</td>\n",
              "      <td>{\"reward_name\":\"Massa Tradizionale\",\"brand_nam...</td>\n",
              "      <td>False</td>\n",
              "      <td>2019-09-24 15:35:00</td>\n",
              "      <td>26</td>\n",
              "      <td>Reward</td>\n",
              "      <td>6.0</td>\n",
              "    </tr>\n",
              "    <tr>\n",
              "      <th>167210</th>\n",
              "      <td>538484850</td>\n",
              "      <td>2</td>\n",
              "      <td>4828</td>\n",
              "      <td>1711189</td>\n",
              "      <td>{\"reward_name\":\"Massa Tradizionale\",\"brand_nam...</td>\n",
              "      <td>False</td>\n",
              "      <td>2019-10-17 15:16:00</td>\n",
              "      <td>26</td>\n",
              "      <td>Reward</td>\n",
              "      <td>6.0</td>\n",
              "    </tr>\n",
              "    <tr>\n",
              "      <th>172311</th>\n",
              "      <td>541326574</td>\n",
              "      <td>2</td>\n",
              "      <td>4828</td>\n",
              "      <td>1711189</td>\n",
              "      <td>{\"reward_name\":\"Massa Tradizionale\",\"brand_nam...</td>\n",
              "      <td>False</td>\n",
              "      <td>2019-10-24 15:31:00</td>\n",
              "      <td>26</td>\n",
              "      <td>Reward</td>\n",
              "      <td>6.0</td>\n",
              "    </tr>\n",
              "  </tbody>\n",
              "</table>\n",
              "</div>"
            ],
            "text/plain": [
              "               id brand_id store_id  ... object_id object_type  value\n",
              "152202  532009503        2     4828  ...        26      Reward    6.0\n",
              "123896  520926544        2     4828  ...        26      Reward    6.0\n",
              "104034  512716674        2     4828  ...        26      Reward    6.0\n",
              "104035  512717156        2     4828  ...        26      Reward    6.0\n",
              "24506   484516390        2     4828  ...        26      Reward    6.0\n",
              "105740  513166971        2     4828  ...        26      Reward    6.0\n",
              "7928    497712182        2     4828  ...        26      Reward    6.0\n",
              "8345    500162258        2     4828  ...        26      Reward    6.0\n",
              "131729  522533362        2     4828  ...        26      Reward    6.0\n",
              "86907   507141439        2     4828  ...        26      Reward    6.0\n",
              "97742   510794339        2     4828  ...        26      Reward    6.0\n",
              "113824  516126280        2     4828  ...        26      Reward    6.0\n",
              "127316  519797629        2     4828  ...        26      Reward    6.0\n",
              "146570  528071121        2     4828  ...        26      Reward    6.0\n",
              "167210  538484850        2     4828  ...        26      Reward    6.0\n",
              "172311  541326574        2     4828  ...        26      Reward    6.0\n",
              "\n",
              "[16 rows x 10 columns]"
            ]
          },
          "metadata": {
            "tags": []
          },
          "execution_count": 97
        }
      ]
    },
    {
      "cell_type": "code",
      "metadata": {
        "id": "4Zv-kM-fdPfG"
      },
      "source": [
        ""
      ],
      "execution_count": null,
      "outputs": []
    },
    {
      "cell_type": "markdown",
      "metadata": {
        "id": "k_KyZX1hc2s1"
      },
      "source": [
        "Cliente 3"
      ]
    },
    {
      "cell_type": "code",
      "metadata": {
        "id": "MfiIL0UYc47S"
      },
      "source": [
        "cliente3 = dt_sem_reviews.loc[dt_sem_reviews.user_id == \"3846196\"].sort_values('interacted_at')   "
      ],
      "execution_count": null,
      "outputs": []
    },
    {
      "cell_type": "code",
      "metadata": {
        "id": "7-2JL0padIpj"
      },
      "source": [
        "valores_c3 = cliente3[\"interacted_at\"].sort_values().to_csv('clitente3.csv')\r\n",
        "\r\n",
        "valores_c3"
      ],
      "execution_count": null,
      "outputs": []
    },
    {
      "cell_type": "code",
      "metadata": {
        "colab": {
          "base_uri": "https://localhost:8080/",
          "height": 390
        },
        "id": "6bBS-MvWdUO2",
        "outputId": "c35c5741-9e7e-452f-bf0f-4a206f883e0f"
      },
      "source": [
        "cliente3[(cliente3[\"object_type\"]==\"Reward\")].sort_values(\"interacted_at\")"
      ],
      "execution_count": null,
      "outputs": [
        {
          "output_type": "execute_result",
          "data": {
            "text/html": [
              "<div>\n",
              "<style scoped>\n",
              "    .dataframe tbody tr th:only-of-type {\n",
              "        vertical-align: middle;\n",
              "    }\n",
              "\n",
              "    .dataframe tbody tr th {\n",
              "        vertical-align: top;\n",
              "    }\n",
              "\n",
              "    .dataframe thead th {\n",
              "        text-align: right;\n",
              "    }\n",
              "</style>\n",
              "<table border=\"1\" class=\"dataframe\">\n",
              "  <thead>\n",
              "    <tr style=\"text-align: right;\">\n",
              "      <th></th>\n",
              "      <th>id</th>\n",
              "      <th>brand_id</th>\n",
              "      <th>store_id</th>\n",
              "      <th>user_id</th>\n",
              "      <th>data</th>\n",
              "      <th>first_interaction</th>\n",
              "      <th>interacted_at</th>\n",
              "      <th>object_id</th>\n",
              "      <th>object_type</th>\n",
              "      <th>value</th>\n",
              "    </tr>\n",
              "  </thead>\n",
              "  <tbody>\n",
              "    <tr>\n",
              "      <th>61435</th>\n",
              "      <td>441011270</td>\n",
              "      <td>2</td>\n",
              "      <td>376</td>\n",
              "      <td>3846196</td>\n",
              "      <td>{\"reward_name\":\"Massa Tradizionale\",\"brand_nam...</td>\n",
              "      <td>False</td>\n",
              "      <td>2019-04-16 17:22:00</td>\n",
              "      <td>26</td>\n",
              "      <td>Reward</td>\n",
              "      <td>6.0</td>\n",
              "    </tr>\n",
              "    <tr>\n",
              "      <th>51753</th>\n",
              "      <td>459410766</td>\n",
              "      <td>2</td>\n",
              "      <td>376</td>\n",
              "      <td>3846196</td>\n",
              "      <td>{\"reward_name\":\"Massa Tradizionale\",\"brand_nam...</td>\n",
              "      <td>False</td>\n",
              "      <td>2019-04-28 15:58:00</td>\n",
              "      <td>26</td>\n",
              "      <td>Reward</td>\n",
              "      <td>6.0</td>\n",
              "    </tr>\n",
              "    <tr>\n",
              "      <th>26863</th>\n",
              "      <td>487575652</td>\n",
              "      <td>2</td>\n",
              "      <td>376</td>\n",
              "      <td>3846196</td>\n",
              "      <td>{\"reward_name\":\"Massa Tradizionale\",\"brand_nam...</td>\n",
              "      <td>False</td>\n",
              "      <td>2019-05-19 16:28:00</td>\n",
              "      <td>26</td>\n",
              "      <td>Reward</td>\n",
              "      <td>6.0</td>\n",
              "    </tr>\n",
              "    <tr>\n",
              "      <th>86272</th>\n",
              "      <td>506704580</td>\n",
              "      <td>2</td>\n",
              "      <td>376</td>\n",
              "      <td>3846196</td>\n",
              "      <td>{\"reward_name\":\"Massa Tradizionale\",\"brand_nam...</td>\n",
              "      <td>False</td>\n",
              "      <td>2019-07-14 15:57:00</td>\n",
              "      <td>26</td>\n",
              "      <td>Reward</td>\n",
              "      <td>6.0</td>\n",
              "    </tr>\n",
              "    <tr>\n",
              "      <th>114871</th>\n",
              "      <td>516506770</td>\n",
              "      <td>2</td>\n",
              "      <td>376</td>\n",
              "      <td>3846196</td>\n",
              "      <td>{\"reward_name\":\"Massa Tradizionale\",\"brand_nam...</td>\n",
              "      <td>False</td>\n",
              "      <td>2019-08-18 16:21:00</td>\n",
              "      <td>26</td>\n",
              "      <td>Reward</td>\n",
              "      <td>6.0</td>\n",
              "    </tr>\n",
              "    <tr>\n",
              "      <th>133556</th>\n",
              "      <td>523428230</td>\n",
              "      <td>2</td>\n",
              "      <td>376</td>\n",
              "      <td>3846196</td>\n",
              "      <td>{\"reward_name\":\"Massa Tradizionale\",\"brand_nam...</td>\n",
              "      <td>False</td>\n",
              "      <td>2019-10-09 16:53:00</td>\n",
              "      <td>26</td>\n",
              "      <td>Reward</td>\n",
              "      <td>6.0</td>\n",
              "    </tr>\n",
              "    <tr>\n",
              "      <th>162283</th>\n",
              "      <td>537054475</td>\n",
              "      <td>2</td>\n",
              "      <td>376</td>\n",
              "      <td>3846196</td>\n",
              "      <td>{\"reward_name\":\"Massa Tradizionale\",\"brand_nam...</td>\n",
              "      <td>False</td>\n",
              "      <td>2019-10-13 17:11:00</td>\n",
              "      <td>26</td>\n",
              "      <td>Reward</td>\n",
              "      <td>6.0</td>\n",
              "    </tr>\n",
              "  </tbody>\n",
              "</table>\n",
              "</div>"
            ],
            "text/plain": [
              "               id brand_id store_id  ... object_id object_type  value\n",
              "61435   441011270        2      376  ...        26      Reward    6.0\n",
              "51753   459410766        2      376  ...        26      Reward    6.0\n",
              "26863   487575652        2      376  ...        26      Reward    6.0\n",
              "86272   506704580        2      376  ...        26      Reward    6.0\n",
              "114871  516506770        2      376  ...        26      Reward    6.0\n",
              "133556  523428230        2      376  ...        26      Reward    6.0\n",
              "162283  537054475        2      376  ...        26      Reward    6.0\n",
              "\n",
              "[7 rows x 10 columns]"
            ]
          },
          "metadata": {
            "tags": []
          },
          "execution_count": 100
        }
      ]
    },
    {
      "cell_type": "markdown",
      "metadata": {
        "id": "pxjeHzNqho_P"
      },
      "source": [
        "clientes que resgatam"
      ]
    },
    {
      "cell_type": "code",
      "metadata": {
        "colab": {
          "base_uri": "https://localhost:8080/"
        },
        "id": "PR8XSAgbiQaX",
        "outputId": "8dd87819-2623-430f-e635-dee5d249768b"
      },
      "source": [
        "list_cliente_reward = dado[dado['object_type']== \"Reward\"]['user_id'].unique()\r\n",
        "\r\n",
        "list_cliente_reward"
      ],
      "execution_count": null,
      "outputs": [
        {
          "output_type": "execute_result",
          "data": {
            "text/plain": [
              "array(['1652873', '9974693', '1634274', ..., '7142495', '11197479',\n",
              "       '10707330'], dtype=object)"
            ]
          },
          "metadata": {
            "tags": []
          },
          "execution_count": 101
        }
      ]
    },
    {
      "cell_type": "code",
      "metadata": {
        "colab": {
          "base_uri": "https://localhost:8080/",
          "height": 597
        },
        "id": "pnfR9z81ib9O",
        "outputId": "0805f04e-452c-4e79-bdfc-a11c723d9eda"
      },
      "source": [
        "vendas_reward = dado[dado[\"user_id\"].isin(list_cliente_reward)]\r\n",
        "vendas_reward"
      ],
      "execution_count": null,
      "outputs": [
        {
          "output_type": "execute_result",
          "data": {
            "text/html": [
              "<div>\n",
              "<style scoped>\n",
              "    .dataframe tbody tr th:only-of-type {\n",
              "        vertical-align: middle;\n",
              "    }\n",
              "\n",
              "    .dataframe tbody tr th {\n",
              "        vertical-align: top;\n",
              "    }\n",
              "\n",
              "    .dataframe thead th {\n",
              "        text-align: right;\n",
              "    }\n",
              "</style>\n",
              "<table border=\"1\" class=\"dataframe\">\n",
              "  <thead>\n",
              "    <tr style=\"text-align: right;\">\n",
              "      <th></th>\n",
              "      <th>id</th>\n",
              "      <th>brand_id</th>\n",
              "      <th>store_id</th>\n",
              "      <th>user_id</th>\n",
              "      <th>data</th>\n",
              "      <th>first_interaction</th>\n",
              "      <th>interacted_at</th>\n",
              "      <th>object_id</th>\n",
              "      <th>object_type</th>\n",
              "      <th>value</th>\n",
              "    </tr>\n",
              "  </thead>\n",
              "  <tbody>\n",
              "    <tr>\n",
              "      <th>57</th>\n",
              "      <td>499349409</td>\n",
              "      <td>2</td>\n",
              "      <td>376</td>\n",
              "      <td>1669965</td>\n",
              "      <td>{\"total_value\":\"R$ 29,90\",\"brand_name\":\"Spolet...</td>\n",
              "      <td>False</td>\n",
              "      <td>2019-06-22 00:52:00</td>\n",
              "      <td>55571501</td>\n",
              "      <td>Purchase</td>\n",
              "      <td>29.9</td>\n",
              "    </tr>\n",
              "    <tr>\n",
              "      <th>63</th>\n",
              "      <td>499438632</td>\n",
              "      <td>2</td>\n",
              "      <td>376</td>\n",
              "      <td>2077202</td>\n",
              "      <td>{\"total_value\":\"R$ 22,90\",\"brand_name\":\"Spolet...</td>\n",
              "      <td>False</td>\n",
              "      <td>2019-06-22 15:37:00</td>\n",
              "      <td>55618189</td>\n",
              "      <td>Purchase</td>\n",
              "      <td>22.9</td>\n",
              "    </tr>\n",
              "    <tr>\n",
              "      <th>66</th>\n",
              "      <td>499441211</td>\n",
              "      <td>2</td>\n",
              "      <td>376</td>\n",
              "      <td>8081096</td>\n",
              "      <td>{\"total_value\":\"R$ 17,00\",\"brand_name\":\"Spolet...</td>\n",
              "      <td>False</td>\n",
              "      <td>2019-06-22 15:46:00</td>\n",
              "      <td>55620529</td>\n",
              "      <td>Purchase</td>\n",
              "      <td>17.0</td>\n",
              "    </tr>\n",
              "    <tr>\n",
              "      <th>77</th>\n",
              "      <td>499461285</td>\n",
              "      <td>2</td>\n",
              "      <td>376</td>\n",
              "      <td>4431311</td>\n",
              "      <td>{\"total_value\":\"R$ 28,40\",\"brand_name\":\"Spolet...</td>\n",
              "      <td>False</td>\n",
              "      <td>2019-06-22 16:31:00</td>\n",
              "      <td>55634172</td>\n",
              "      <td>Purchase</td>\n",
              "      <td>28.4</td>\n",
              "    </tr>\n",
              "    <tr>\n",
              "      <th>84</th>\n",
              "      <td>499472848</td>\n",
              "      <td>2</td>\n",
              "      <td>376</td>\n",
              "      <td>1662002</td>\n",
              "      <td>{\"total_value\":\"R$ 39,90\",\"brand_name\":\"Spolet...</td>\n",
              "      <td>False</td>\n",
              "      <td>2019-06-22 16:53:00</td>\n",
              "      <td>55640856</td>\n",
              "      <td>Purchase</td>\n",
              "      <td>39.9</td>\n",
              "    </tr>\n",
              "    <tr>\n",
              "      <th>...</th>\n",
              "      <td>...</td>\n",
              "      <td>...</td>\n",
              "      <td>...</td>\n",
              "      <td>...</td>\n",
              "      <td>...</td>\n",
              "      <td>...</td>\n",
              "      <td>...</td>\n",
              "      <td>...</td>\n",
              "      <td>...</td>\n",
              "      <td>...</td>\n",
              "    </tr>\n",
              "    <tr>\n",
              "      <th>178893</th>\n",
              "      <td>528592927</td>\n",
              "      <td>2</td>\n",
              "      <td>376</td>\n",
              "      <td>1718018</td>\n",
              "      <td>{\"total_value\":\"R$ 29,90\",\"brand_name\":\"Spolet...</td>\n",
              "      <td>False</td>\n",
              "      <td>2019-09-25 15:39:00</td>\n",
              "      <td>69923636</td>\n",
              "      <td>Purchase</td>\n",
              "      <td>29.9</td>\n",
              "    </tr>\n",
              "    <tr>\n",
              "      <th>178897</th>\n",
              "      <td>528607778</td>\n",
              "      <td>2</td>\n",
              "      <td>376</td>\n",
              "      <td>8828194</td>\n",
              "      <td>{\"total_value\":\"R$ 23,40\",\"brand_name\":\"Spolet...</td>\n",
              "      <td>False</td>\n",
              "      <td>2019-09-25 15:57:00</td>\n",
              "      <td>69931658</td>\n",
              "      <td>Purchase</td>\n",
              "      <td>23.4</td>\n",
              "    </tr>\n",
              "    <tr>\n",
              "      <th>178899</th>\n",
              "      <td>528610661</td>\n",
              "      <td>2</td>\n",
              "      <td>376</td>\n",
              "      <td>4064881</td>\n",
              "      <td>{\"total_value\":\"R$ 19,40\",\"brand_name\":\"Spolet...</td>\n",
              "      <td>False</td>\n",
              "      <td>2019-09-25 16:01:00</td>\n",
              "      <td>69933318</td>\n",
              "      <td>Purchase</td>\n",
              "      <td>19.4</td>\n",
              "    </tr>\n",
              "    <tr>\n",
              "      <th>178913</th>\n",
              "      <td>528674129</td>\n",
              "      <td>2</td>\n",
              "      <td>376</td>\n",
              "      <td>9321134</td>\n",
              "      <td>{\"total_value\":\"R$ 28,40\",\"brand_name\":\"Spolet...</td>\n",
              "      <td>False</td>\n",
              "      <td>2019-09-25 18:26:00</td>\n",
              "      <td>69968447</td>\n",
              "      <td>Purchase</td>\n",
              "      <td>28.4</td>\n",
              "    </tr>\n",
              "    <tr>\n",
              "      <th>178932</th>\n",
              "      <td>541516737</td>\n",
              "      <td>2</td>\n",
              "      <td>2375</td>\n",
              "      <td>9586202</td>\n",
              "      <td>{\"total_value\":\"R$ 17,00\",\"brand_name\":\"Spolet...</td>\n",
              "      <td>False</td>\n",
              "      <td>2019-10-25 00:14:00</td>\n",
              "      <td>74294672</td>\n",
              "      <td>Purchase</td>\n",
              "      <td>17.0</td>\n",
              "    </tr>\n",
              "  </tbody>\n",
              "</table>\n",
              "<p>21853 rows × 10 columns</p>\n",
              "</div>"
            ],
            "text/plain": [
              "               id brand_id store_id  ... object_id object_type  value\n",
              "57      499349409        2      376  ...  55571501    Purchase   29.9\n",
              "63      499438632        2      376  ...  55618189    Purchase   22.9\n",
              "66      499441211        2      376  ...  55620529    Purchase   17.0\n",
              "77      499461285        2      376  ...  55634172    Purchase   28.4\n",
              "84      499472848        2      376  ...  55640856    Purchase   39.9\n",
              "...           ...      ...      ...  ...       ...         ...    ...\n",
              "178893  528592927        2      376  ...  69923636    Purchase   29.9\n",
              "178897  528607778        2      376  ...  69931658    Purchase   23.4\n",
              "178899  528610661        2      376  ...  69933318    Purchase   19.4\n",
              "178913  528674129        2      376  ...  69968447    Purchase   28.4\n",
              "178932  541516737        2     2375  ...  74294672    Purchase   17.0\n",
              "\n",
              "[21853 rows x 10 columns]"
            ]
          },
          "metadata": {
            "tags": []
          },
          "execution_count": 102
        }
      ]
    },
    {
      "cell_type": "code",
      "metadata": {
        "colab": {
          "base_uri": "https://localhost:8080/"
        },
        "id": "ELceIPvIjxRq",
        "outputId": "6c722b45-9707-48df-869c-37f1acb8ac8b"
      },
      "source": [
        "vendas_reward[\"id\"]=vendas_reward[\"id\"].astype(str)\r\n",
        "\r\n",
        "vendas_reward[\"id\"].count()"
      ],
      "execution_count": null,
      "outputs": [
        {
          "output_type": "stream",
          "text": [
            "/usr/local/lib/python3.6/dist-packages/ipykernel_launcher.py:1: SettingWithCopyWarning: \n",
            "A value is trying to be set on a copy of a slice from a DataFrame.\n",
            "Try using .loc[row_indexer,col_indexer] = value instead\n",
            "\n",
            "See the caveats in the documentation: https://pandas.pydata.org/pandas-docs/stable/user_guide/indexing.html#returning-a-view-versus-a-copy\n",
            "  \"\"\"Entry point for launching an IPython kernel.\n"
          ],
          "name": "stderr"
        },
        {
          "output_type": "execute_result",
          "data": {
            "text/plain": [
              "21853"
            ]
          },
          "metadata": {
            "tags": []
          },
          "execution_count": 103
        }
      ]
    },
    {
      "cell_type": "code",
      "metadata": {
        "colab": {
          "base_uri": "https://localhost:8080/"
        },
        "id": "6mu_GiNvqP6O",
        "outputId": "472356cc-fc1b-4b0f-ed32-98b7baefc535"
      },
      "source": [
        "vendas_reward[\"user_id\"].value_counts()\r\n",
        "\r\n"
      ],
      "execution_count": null,
      "outputs": [
        {
          "output_type": "execute_result",
          "data": {
            "text/plain": [
              "4903322     58\n",
              "3846196     55\n",
              "1711189     53\n",
              "9542884     51\n",
              "3525314     49\n",
              "            ..\n",
              "4352798      1\n",
              "10393742     1\n",
              "8827903      1\n",
              "4055055      1\n",
              "4550137      1\n",
              "Name: user_id, Length: 2342, dtype: int64"
            ]
          },
          "metadata": {
            "tags": []
          },
          "execution_count": 104
        }
      ]
    },
    {
      "cell_type": "code",
      "metadata": {
        "id": "i6yX35BZ-m_v"
      },
      "source": [
        ""
      ],
      "execution_count": null,
      "outputs": []
    },
    {
      "cell_type": "markdown",
      "metadata": {
        "id": "zTIYezO2lMj4"
      },
      "source": [
        "TEMOS 67151 MIL VENDAS DE 2342 mild CLIENTES QUE UTILIZARAM O SISTEMA DE REWARD"
      ]
    },
    {
      "cell_type": "code",
      "metadata": {
        "colab": {
          "base_uri": "https://localhost:8080/"
        },
        "id": "vqKoEyWGlWLC",
        "outputId": "e72163c1-5226-481a-b238-9168daa089a2"
      },
      "source": [
        "dado[\"user_id\"].value_counts()"
      ],
      "execution_count": null,
      "outputs": [
        {
          "output_type": "execute_result",
          "data": {
            "text/plain": [
              "4903322     58\n",
              "3846196     55\n",
              "1711189     53\n",
              "9542884     51\n",
              "3525314     49\n",
              "            ..\n",
              "9617313      1\n",
              "11808422     1\n",
              "9570151      1\n",
              "11463843     1\n",
              "9493398      1\n",
              "Name: user_id, Length: 54743, dtype: int64"
            ]
          },
          "metadata": {
            "tags": []
          },
          "execution_count": 105
        }
      ]
    },
    {
      "cell_type": "code",
      "metadata": {
        "colab": {
          "base_uri": "https://localhost:8080/"
        },
        "id": "2vL4CweUsITu",
        "outputId": "2c4a3129-9097-4103-9748-0b8ac2fbf1ab"
      },
      "source": [
        "dado[\"id\"].value_counts()"
      ],
      "execution_count": null,
      "outputs": [
        {
          "output_type": "execute_result",
          "data": {
            "text/plain": [
              "537123093    1\n",
              "516534302    1\n",
              "436849895    1\n",
              "528744970    1\n",
              "489116004    1\n",
              "            ..\n",
              "489103690    1\n",
              "501103546    1\n",
              "538129433    1\n",
              "533839252    1\n",
              "496192118    1\n",
              "Name: id, Length: 95200, dtype: int64"
            ]
          },
          "metadata": {
            "tags": []
          },
          "execution_count": 106
        }
      ]
    },
    {
      "cell_type": "code",
      "metadata": {
        "colab": {
          "base_uri": "https://localhost:8080/"
        },
        "id": "bAyFd3FUtDu_",
        "outputId": "8db8529e-41fb-40af-fe4c-cbe1ec537f96"
      },
      "source": [
        "21853/2342\r\n"
      ],
      "execution_count": null,
      "outputs": [
        {
          "output_type": "execute_result",
          "data": {
            "text/plain": [
              "9.330913748932536"
            ]
          },
          "metadata": {
            "tags": []
          },
          "execution_count": 107
        }
      ]
    },
    {
      "cell_type": "code",
      "metadata": {
        "colab": {
          "base_uri": "https://localhost:8080/"
        },
        "id": "UEzGtwWhtRAS",
        "outputId": "209cbdf2-467f-4874-d78e-d39abd773590"
      },
      "source": [
        "9.330913748932536/1.3997251960840442"
      ],
      "execution_count": null,
      "outputs": [
        {
          "output_type": "execute_result",
          "data": {
            "text/plain": [
              "6.66624689977523"
            ]
          },
          "metadata": {
            "tags": []
          },
          "execution_count": 108
        }
      ]
    },
    {
      "cell_type": "code",
      "metadata": {
        "colab": {
          "base_uri": "https://localhost:8080/"
        },
        "id": "2hMQTTCrtNUZ",
        "outputId": "0cfc7d4a-a095-4247-f6c9-087b0ecc3b8b"
      },
      "source": [
        "\r\n",
        "73347/52401\r\n"
      ],
      "execution_count": null,
      "outputs": [
        {
          "output_type": "execute_result",
          "data": {
            "text/plain": [
              "1.3997251960840442"
            ]
          },
          "metadata": {
            "tags": []
          },
          "execution_count": 109
        }
      ]
    },
    {
      "cell_type": "markdown",
      "metadata": {
        "id": "Jkvlb5wMyd5s"
      },
      "source": [
        "CLIENTES QUE RESGATAM CONSOMEM 6X MAIS"
      ]
    },
    {
      "cell_type": "code",
      "metadata": {
        "colab": {
          "base_uri": "https://localhost:8080/"
        },
        "id": "gSeiLgQx-oqs",
        "outputId": "880690e7-8ed5-4293-b196-9f03f4f56f45"
      },
      "source": [
        "#clientes reagatam, data e frequencia\r\n",
        "\r\n",
        "variavel_vendasrd = vendas_reward[\"interacted_at\"].sort_values().unique()\r\n",
        "\r\n",
        "\r\n",
        "variavel_vendasrd\r\n",
        "\r\n"
      ],
      "execution_count": null,
      "outputs": [
        {
          "output_type": "execute_result",
          "data": {
            "text/plain": [
              "array(['2019-01-04T00:00:00.000000000', '2019-01-04T00:01:00.000000000',\n",
              "       '2019-01-04T00:21:00.000000000', ...,\n",
              "       '2019-12-10T23:38:00.000000000', '2019-12-10T23:40:00.000000000',\n",
              "       '2019-12-10T23:51:00.000000000'], dtype='datetime64[ns]')"
            ]
          },
          "metadata": {
            "tags": []
          },
          "execution_count": 110
        }
      ]
    },
    {
      "cell_type": "code",
      "metadata": {
        "id": "9WOS3JxKC0CW"
      },
      "source": [
        "vendas_reward[\"interacted_at\"].sort_values().to_csv('vendas.csv')"
      ],
      "execution_count": null,
      "outputs": []
    },
    {
      "cell_type": "code",
      "metadata": {
        "id": "p98HxqWKGU5R"
      },
      "source": [
        "vendas_reward.loc[(vendas_reward[\"object_type\"]==\"Reward\")][\"interacted_at\"].sort_values().to_csv('rewards.csv')"
      ],
      "execution_count": null,
      "outputs": []
    },
    {
      "cell_type": "code",
      "metadata": {
        "id": "Ai21X4VhvnSe"
      },
      "source": [
        ""
      ],
      "execution_count": null,
      "outputs": []
    }
  ]
}